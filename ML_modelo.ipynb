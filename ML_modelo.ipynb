{
 "cells": [
  {
   "cell_type": "markdown",
   "metadata": {},
   "source": [
    "Importar librerias"
   ]
  },
  {
   "cell_type": "code",
   "execution_count": 1,
   "metadata": {},
   "outputs": [],
   "source": [
    "import pandas as pd\n",
    "from sklearn.model_selection import train_test_split\n",
    "from sklearn.decomposition import PCA\n",
    "from sklearn.metrics.pairwise import cosine_similarity"
   ]
  },
  {
   "cell_type": "markdown",
   "metadata": {},
   "source": [
    "Cargar DF usado para el modelo"
   ]
  },
  {
   "cell_type": "code",
   "execution_count": 3,
   "metadata": {},
   "outputs": [],
   "source": [
    "df_ML = pd.read_csv('../ProyectoIndividualML.JC/df_ML.csv')"
   ]
  },
  {
   "cell_type": "code",
   "execution_count": 5,
   "metadata": {},
   "outputs": [],
   "source": [
    "# Crear un diccionario de mapeo de usuarios e ítems a índices enteros\n",
    "user_ids = df_ML['user_id'].unique()\n",
    "item_ids = df_ML['item_id'].unique()\n",
    "user_id_map = {user_id: i for i, user_id in enumerate(user_ids)}\n",
    "item_id_map = {item_id: i for i, item_id in enumerate(item_ids)}\n",
    "\n",
    "# Agregar columnas de índices enteros al DataFrame df_fusion3\n",
    "df_ML['user_index'] = df_ML['user_id'].map(user_id_map)\n",
    "df_ML['item_index'] = df_ML['item_id'].map(item_id_map)\n",
    "\n",
    "# Dividir los datos en conjuntos de entrenamiento y prueba\n",
    "train_data, test_data = train_test_split(df_ML[['user_index', 'item_index', 'playtime_forever']],test_size=0.2)"
   ]
  },
  {
   "cell_type": "code",
   "execution_count": 6,
   "metadata": {},
   "outputs": [],
   "source": [
    "# Selecciona las columnas relevantes para calcular la similitud\n",
    "item_features = df_ML[['item_id', 'Action', 'Adventure', 'Racing', 'Simulation', 'Sports', 'Strategy']]\n",
    "\n",
    "# Normaliza las características antes de aplicar PCA \n",
    "item_features_normalized = item_features / item_features.max(axis=0)\n",
    "\n",
    "# Configura el número de componentes principales\n",
    "n_components = 6  # Mantener todas las características originales\n",
    "\n",
    "# Aplica PCA\n",
    "pca = PCA(n_components=n_components)\n",
    "item_features_pca = pca.fit_transform(item_features_normalized)\n",
    "\n",
    "# Se toma un subconjunto de ítems para reducir la carga de memoria\n",
    "subset_size = 500  \n",
    "item_features_subset = item_features.iloc[:subset_size]\n",
    "\n",
    "# Calcular la matriz de similitud de coseno para el subconjunto de ítems\n",
    "item_similarity = cosine_similarity(item_features_subset)\n",
    "\n",
    "# Crear un DataFrame para la matriz de similitud \n",
    "item_similarity_df = pd.DataFrame(item_similarity, index=item_features_subset.index, columns=item_features_subset.index)"
   ]
  },
  {
   "cell_type": "code",
   "execution_count": 7,
   "metadata": {},
   "outputs": [],
   "source": [
    "# Definir una función para obtener las recomendaciones para un ítem de referencia\n",
    "def get_item_recommendations(item_id_referencia, item_similarity_df, num_recommendations=5):\n",
    "    # Calcular la similitud de coseno entre el ítem de referencia y todos los demás ítems\n",
    "    similarities = item_similarity_df[item_id_referencia]\n",
    "    \n",
    "    # Ordenar los ítems en función de su similitud de coseno (en orden descendente)\n",
    "    recomendaciones = similarities.sort_values(ascending=False)\n",
    "    \n",
    "    # Eliminar el ítem de referencia de la lista de recomendaciones (si está presente)\n",
    "    if item_id_referencia in recomendaciones:\n",
    "        recomendaciones = recomendaciones.drop(item_id_referencia)\n",
    "    \n",
    "    # Tomar los primeros \"num_recommendations\" ítems como recomendaciones\n",
    "    top_recommendations = recomendaciones.head(num_recommendations)\n",
    "    \n",
    "    return top_recommendations"
   ]
  },
  {
   "cell_type": "code",
   "execution_count": 8,
   "metadata": {},
   "outputs": [
    {
     "name": "stdout",
     "output_type": "stream",
     "text": [
      "Recomendaciones para el ítem de referencia 100 :\n",
      "Ítem: 141 - Similitud de Coseno: 0.9999999999910263\n",
      "Ítem: 310 - Similitud de Coseno: 0.9999999998747626\n",
      "Ítem: 20 - Similitud de Coseno: 0.9999999997986155\n",
      "Ítem: 173 - Similitud de Coseno: 0.9999999996765199\n",
      "Ítem: 119 - Similitud de Coseno: 0.9999999996001938\n"
     ]
    }
   ],
   "source": [
    "# Uso de la función\n",
    "item_id_referencia = 100  \n",
    "num_recommendations = 5\n",
    "recomendaciones = get_item_recommendations(item_id_referencia, item_similarity_df, num_recommendations)\n",
    "\n",
    "print(\"Recomendaciones para el ítem de referencia\", item_id_referencia, \":\")\n",
    "for item_id, similarity_score in recomendaciones.items():\n",
    "    print(\"Ítem:\", item_id, \"- Similitud de Coseno:\", similarity_score)"
   ]
  }
 ],
 "metadata": {
  "kernelspec": {
   "display_name": "Python 3",
   "language": "python",
   "name": "python3"
  },
  "language_info": {
   "codemirror_mode": {
    "name": "ipython",
    "version": 3
   },
   "file_extension": ".py",
   "mimetype": "text/x-python",
   "name": "python",
   "nbconvert_exporter": "python",
   "pygments_lexer": "ipython3",
   "version": "3.11.4"
  },
  "orig_nbformat": 4
 },
 "nbformat": 4,
 "nbformat_minor": 2
}
