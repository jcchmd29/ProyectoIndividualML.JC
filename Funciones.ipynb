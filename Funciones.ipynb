{
 "cells": [
  {
   "cell_type": "code",
   "execution_count": 1,
   "metadata": {},
   "outputs": [],
   "source": [
    "import pandas as pd\n",
    "import numpy as np\n",
    "import json\n",
    "import matplotlib.pyplot as plt\n",
    "import seaborn as sns\n",
    "import ipywidgets as widgets \n",
    "import ast\n",
    "import gzip\n",
    "import pandas as pd\n",
    "from io import StringIO"
   ]
  },
  {
   "cell_type": "markdown",
   "metadata": {},
   "source": [
    "CARGAR LOS DF A UTILIZAR EN LAS FUNCIONES"
   ]
  },
  {
   "cell_type": "code",
   "execution_count": 2,
   "metadata": {},
   "outputs": [],
   "source": [
    "\n",
    "# DF PARA FUNCION 1\n",
    "df_games_reviews = pd.read_csv('df_games_reviewsf1.csv')\n",
    "\n",
    "# DF PARA FUNCION 2\n",
    "def_reviews_api2 = pd.read_csv('def_reviews_api2.csv')\n",
    "\n",
    "# DF PARA FUNCIONES 3\n",
    "df3= pd.read_csv('resultados_num.csv')\n",
    "\n",
    "# DF PARA FUNCIONES 4\n",
    "df4= pd.read_csv('df_final_api3y4.csv')\n",
    "\n",
    "# DF PARA FUNCION 5\n",
    "\n",
    "df_gamesf5_free = pd.read_csv('df_gamesf5_free.csv')\n",
    "\n",
    "# DF PARA FUNCION 6\n",
    "\n",
    "\n"
   ]
  },
  {
   "cell_type": "code",
   "execution_count": 26,
   "metadata": {},
   "outputs": [
    {
     "data": {
      "text/html": [
       "<div>\n",
       "<style scoped>\n",
       "    .dataframe tbody tr th:only-of-type {\n",
       "        vertical-align: middle;\n",
       "    }\n",
       "\n",
       "    .dataframe tbody tr th {\n",
       "        vertical-align: top;\n",
       "    }\n",
       "\n",
       "    .dataframe thead th {\n",
       "        text-align: right;\n",
       "    }\n",
       "</style>\n",
       "<table border=\"1\" class=\"dataframe\">\n",
       "  <thead>\n",
       "    <tr style=\"text-align: right;\">\n",
       "      <th></th>\n",
       "      <th>user_id</th>\n",
       "      <th>Action</th>\n",
       "      <th>Adventure</th>\n",
       "      <th>Racing</th>\n",
       "      <th>Simulation</th>\n",
       "      <th>Sports</th>\n",
       "      <th>Strategy</th>\n",
       "      <th>user_url</th>\n",
       "      <th>item_name</th>\n",
       "      <th>playtime_forever</th>\n",
       "      <th>playtime_hours</th>\n",
       "    </tr>\n",
       "  </thead>\n",
       "  <tbody>\n",
       "    <tr>\n",
       "      <th>0</th>\n",
       "      <td>76561197970982479</td>\n",
       "      <td>0</td>\n",
       "      <td>0</td>\n",
       "      <td>0</td>\n",
       "      <td>0</td>\n",
       "      <td>0</td>\n",
       "      <td>0</td>\n",
       "      <td>http://steamcommunity.com/profiles/76561197970...</td>\n",
       "      <td>Counter-Strike</td>\n",
       "      <td>6.0</td>\n",
       "      <td>0.00</td>\n",
       "    </tr>\n",
       "    <tr>\n",
       "      <th>1</th>\n",
       "      <td>js41637</td>\n",
       "      <td>0</td>\n",
       "      <td>0</td>\n",
       "      <td>0</td>\n",
       "      <td>0</td>\n",
       "      <td>0</td>\n",
       "      <td>0</td>\n",
       "      <td>http://steamcommunity.com/id/js41637</td>\n",
       "      <td>Counter-Strike</td>\n",
       "      <td>0.0</td>\n",
       "      <td>0.00</td>\n",
       "    </tr>\n",
       "    <tr>\n",
       "      <th>2</th>\n",
       "      <td>js41637</td>\n",
       "      <td>0</td>\n",
       "      <td>0</td>\n",
       "      <td>0</td>\n",
       "      <td>0</td>\n",
       "      <td>0</td>\n",
       "      <td>1</td>\n",
       "      <td>http://steamcommunity.com/id/js41637</td>\n",
       "      <td>Counter-Strike</td>\n",
       "      <td>0.0</td>\n",
       "      <td>0.00</td>\n",
       "    </tr>\n",
       "    <tr>\n",
       "      <th>3</th>\n",
       "      <td>evcentric</td>\n",
       "      <td>0</td>\n",
       "      <td>0</td>\n",
       "      <td>0</td>\n",
       "      <td>0</td>\n",
       "      <td>0</td>\n",
       "      <td>0</td>\n",
       "      <td>http://steamcommunity.com/id/evcentric</td>\n",
       "      <td>Red Orchestra: Ostfront 41-45</td>\n",
       "      <td>923.0</td>\n",
       "      <td>0.26</td>\n",
       "    </tr>\n",
       "    <tr>\n",
       "      <th>4</th>\n",
       "      <td>evcentric</td>\n",
       "      <td>1</td>\n",
       "      <td>1</td>\n",
       "      <td>0</td>\n",
       "      <td>0</td>\n",
       "      <td>0</td>\n",
       "      <td>0</td>\n",
       "      <td>http://steamcommunity.com/id/evcentric</td>\n",
       "      <td>Red Orchestra: Ostfront 41-45</td>\n",
       "      <td>923.0</td>\n",
       "      <td>0.26</td>\n",
       "    </tr>\n",
       "  </tbody>\n",
       "</table>\n",
       "</div>"
      ],
      "text/plain": [
       "             user_id  Action  Adventure  Racing  Simulation  Sports  Strategy  \\\n",
       "0  76561197970982479       0          0       0           0       0         0   \n",
       "1            js41637       0          0       0           0       0         0   \n",
       "2            js41637       0          0       0           0       0         1   \n",
       "3          evcentric       0          0       0           0       0         0   \n",
       "4          evcentric       1          1       0           0       0         0   \n",
       "\n",
       "                                            user_url  \\\n",
       "0  http://steamcommunity.com/profiles/76561197970...   \n",
       "1               http://steamcommunity.com/id/js41637   \n",
       "2               http://steamcommunity.com/id/js41637   \n",
       "3             http://steamcommunity.com/id/evcentric   \n",
       "4             http://steamcommunity.com/id/evcentric   \n",
       "\n",
       "                       item_name  playtime_forever  playtime_hours  \n",
       "0                 Counter-Strike               6.0            0.00  \n",
       "1                 Counter-Strike               0.0            0.00  \n",
       "2                 Counter-Strike               0.0            0.00  \n",
       "3  Red Orchestra: Ostfront 41-45             923.0            0.26  \n",
       "4  Red Orchestra: Ostfront 41-45             923.0            0.26  "
      ]
     },
     "execution_count": 26,
     "metadata": {},
     "output_type": "execute_result"
    }
   ],
   "source": [
    "df4.head()"
   ]
  },
  {
   "cell_type": "markdown",
   "metadata": {},
   "source": [
    "Funcion 1\n",
    "\n",
    "def userdata( User_id : str ): Debe devolver cantidad de dinero gastado por el usuario, el porcentaje de recomendación en base a reviews.recommend y cantidad de items."
   ]
  },
  {
   "cell_type": "code",
   "execution_count": 3,
   "metadata": {},
   "outputs": [],
   "source": [
    "def userdata(User_id: str):\n",
    " # Filtrar los datos para el usuario específico\n",
    "    datos_usuario = df_games_reviews[df_games_reviews['user_id'] == User_id]\n",
    "    \n",
    "    # Calcular la cantidad de dinero gastado por el usuario\n",
    "    total_gastado = df_games_reviews[df_games_reviews['user_id'] == User_id]['price'].sum()\n",
    "    \n",
    "    # Calcular el porcentaje de recomendación en base a la columna correcta (ajusta esto)\n",
    "    # Suponiendo que \"opiniones.recomendacion\" es la columna relevante en df_original\n",
    "    porcentaje_recomendacion = (datos_usuario['recommend'].sum() / len(datos_usuario)) * 100\n",
    "    \n",
    "    # Calcular la cantidad de ítems\n",
    "    cantidad_items = df_games_reviews[df_games_reviews['user_id'] == User_id]['items_count'].sum()\n",
    "    \n",
    "    # Devolver los resultados como un diccionario\n",
    "    resultados = {\n",
    "        'id_usuario': User_id,\n",
    "        'total_gastado': total_gastado,\n",
    "        'porcentaje_recomendacion': porcentaje_recomendacion,\n",
    "        'cantidad_items': cantidad_items\n",
    "    }\n",
    "    \n",
    "    return resultados"
   ]
  },
  {
   "cell_type": "code",
   "execution_count": 4,
   "metadata": {},
   "outputs": [
    {
     "data": {
      "text/plain": [
       "{'id_usuario': '76561198024263284',\n",
       " 'total_gastado': 19.99,\n",
       " 'porcentaje_recomendacion': 100.0,\n",
       " 'cantidad_items': 28.0}"
      ]
     },
     "execution_count": 4,
     "metadata": {},
     "output_type": "execute_result"
    }
   ],
   "source": [
    "userdata('76561198024263284')"
   ]
  },
  {
   "cell_type": "markdown",
   "metadata": {},
   "source": [
    "Funcion 2 \n",
    "\n",
    "def countreviews( YYYY-MM-DD y YYYY-MM-DD : str ): Cantidad de usuarios que realizaron reviews entre las fechas dadas y, el porcentaje de recomendación de los mismos en base a reviews.recommend."
   ]
  },
  {
   "cell_type": "code",
   "execution_count": 5,
   "metadata": {},
   "outputs": [],
   "source": [
    "def countreviews(fecha_inicio, fecha_fin):\n",
    "    # Filtrar el DataFrame por las fechas dadas\n",
    "    df_filtrado = def_reviews_api2[(def_reviews_api2['fecha'] >= fecha_inicio) & (def_reviews_api2['fecha'] <= fecha_fin)]\n",
    "\n",
    "    # Calcular la cantidad de usuarios únicos\n",
    "    usuarios_unicos = df_filtrado['user_id'].nunique()\n",
    "\n",
    "    # Calcular el porcentaje de recomendación promedio\n",
    "    porcentaje_promedio = df_filtrado['recommend'].mean() * 100\n",
    "    \n",
    "    # Calcular la cantidad de items\n",
    "    cantidad_items = len(df_filtrado)\n",
    "\n",
    "\n",
    "    # Devolver los resultados como un diccionario\n",
    "    resultados = {\n",
    "        f'Cantidad de usuarios que realizaron reviews entre {fecha_inicio} y {fecha_fin}': usuarios_unicos,\n",
    "        'Porcentaje de recomendación promedio': porcentaje_promedio,\n",
    "        'Cantidad de items': cantidad_items\n",
    "    }\n",
    "\n",
    "    return resultados"
   ]
  },
  {
   "cell_type": "code",
   "execution_count": 6,
   "metadata": {},
   "outputs": [
    {
     "data": {
      "text/plain": [
       "{'Cantidad de usuarios que realizaron reviews entre 2011-01-01 y 2014-12-31': 20519,\n",
       " 'Porcentaje de recomendación promedio': 89.77368813727928,\n",
       " 'Cantidad de items': 40210}"
      ]
     },
     "execution_count": 6,
     "metadata": {},
     "output_type": "execute_result"
    }
   ],
   "source": [
    "\n",
    "# Ejemplo de uso\n",
    "\n",
    "\n",
    "fecha_inicio = '2011-05-01'\n",
    "fecha_fin = '2014-12-31'\n",
    "countreviews(fecha_inicio, fecha_fin)\n"
   ]
  },
  {
   "cell_type": "markdown",
   "metadata": {},
   "source": [
    "funcion 3\n",
    "\n",
    "def genre( género : str ): Devuelve el puesto en el que se encuentra un género sobre el ranking de los mismos analizado bajo la columna PlayTimeForever."
   ]
  },
  {
   "cell_type": "code",
   "execution_count": 7,
   "metadata": {},
   "outputs": [],
   "source": [
    "df3 = pd.DataFrame(df3)"
   ]
  },
  {
   "cell_type": "code",
   "execution_count": 38,
   "metadata": {},
   "outputs": [],
   "source": [
    "def genre(genero:str):\n",
    "    # Filtra el DataFrame para quedarte solo con las filas donde el género tiene un valor mayor que 0\n",
    "    df_genre = df3[df3[genero] > 0]\n",
    "\n",
    "    # Ordena el DataFrame por la columna 'playtime_forever' de manera descendente\n",
    "    df_sorted = df_genre.sort_values(by='playtime_forever', ascending=False)\n",
    "\n",
    "    # Resetea el índice del DataFrame ordenado\n",
    "    df_sorted.reset_index(drop=True, inplace=True)\n",
    "\n",
    "    # Encuentra la posición del género en el DataFrame ordenado\n",
    "    position = df_sorted[df_sorted[genero] > 0].index[0] + 1\n",
    "\n",
    "    # Crear un diccionario con la respuesta\n",
    "    response = {\n",
    "    \n",
    "        'Genero': genero,\n",
    "        \"position de ranking\": position\n",
    "    }\n",
    "\n",
    "    return response"
   ]
  },
  {
   "cell_type": "code",
   "execution_count": 39,
   "metadata": {},
   "outputs": [
    {
     "data": {
      "text/plain": [
       "{'Genero': 'Action', 'position de ranking': 1}"
      ]
     },
     "execution_count": 39,
     "metadata": {},
     "output_type": "execute_result"
    }
   ],
   "source": [
    "# Ejemplo de uso:\n",
    "resultado = genre(\"Action\")\n",
    "resultado"
   ]
  },
  {
   "cell_type": "code",
   "execution_count": 29,
   "metadata": {},
   "outputs": [
    {
     "data": {
      "text/html": [
       "<div>\n",
       "<style scoped>\n",
       "    .dataframe tbody tr th:only-of-type {\n",
       "        vertical-align: middle;\n",
       "    }\n",
       "\n",
       "    .dataframe tbody tr th {\n",
       "        vertical-align: top;\n",
       "    }\n",
       "\n",
       "    .dataframe thead th {\n",
       "        text-align: right;\n",
       "    }\n",
       "</style>\n",
       "<table border=\"1\" class=\"dataframe\">\n",
       "  <thead>\n",
       "    <tr style=\"text-align: right;\">\n",
       "      <th></th>\n",
       "      <th>user_id</th>\n",
       "      <th>Action</th>\n",
       "      <th>Adventure</th>\n",
       "      <th>Racing</th>\n",
       "      <th>Simulation</th>\n",
       "      <th>Sports</th>\n",
       "      <th>Strategy</th>\n",
       "      <th>user_url</th>\n",
       "      <th>item_name</th>\n",
       "      <th>playtime_forever</th>\n",
       "      <th>playtime_hours</th>\n",
       "    </tr>\n",
       "  </thead>\n",
       "  <tbody>\n",
       "    <tr>\n",
       "      <th>0</th>\n",
       "      <td>76561197970982479</td>\n",
       "      <td>0</td>\n",
       "      <td>0</td>\n",
       "      <td>0</td>\n",
       "      <td>0</td>\n",
       "      <td>0</td>\n",
       "      <td>0</td>\n",
       "      <td>http://steamcommunity.com/profiles/76561197970...</td>\n",
       "      <td>Counter-Strike</td>\n",
       "      <td>6.0</td>\n",
       "      <td>0.00</td>\n",
       "    </tr>\n",
       "    <tr>\n",
       "      <th>1</th>\n",
       "      <td>js41637</td>\n",
       "      <td>0</td>\n",
       "      <td>0</td>\n",
       "      <td>0</td>\n",
       "      <td>0</td>\n",
       "      <td>0</td>\n",
       "      <td>0</td>\n",
       "      <td>http://steamcommunity.com/id/js41637</td>\n",
       "      <td>Counter-Strike</td>\n",
       "      <td>0.0</td>\n",
       "      <td>0.00</td>\n",
       "    </tr>\n",
       "    <tr>\n",
       "      <th>2</th>\n",
       "      <td>js41637</td>\n",
       "      <td>0</td>\n",
       "      <td>0</td>\n",
       "      <td>0</td>\n",
       "      <td>0</td>\n",
       "      <td>0</td>\n",
       "      <td>1</td>\n",
       "      <td>http://steamcommunity.com/id/js41637</td>\n",
       "      <td>Counter-Strike</td>\n",
       "      <td>0.0</td>\n",
       "      <td>0.00</td>\n",
       "    </tr>\n",
       "    <tr>\n",
       "      <th>3</th>\n",
       "      <td>evcentric</td>\n",
       "      <td>0</td>\n",
       "      <td>0</td>\n",
       "      <td>0</td>\n",
       "      <td>0</td>\n",
       "      <td>0</td>\n",
       "      <td>0</td>\n",
       "      <td>http://steamcommunity.com/id/evcentric</td>\n",
       "      <td>Red Orchestra: Ostfront 41-45</td>\n",
       "      <td>923.0</td>\n",
       "      <td>0.26</td>\n",
       "    </tr>\n",
       "    <tr>\n",
       "      <th>4</th>\n",
       "      <td>evcentric</td>\n",
       "      <td>1</td>\n",
       "      <td>1</td>\n",
       "      <td>0</td>\n",
       "      <td>0</td>\n",
       "      <td>0</td>\n",
       "      <td>0</td>\n",
       "      <td>http://steamcommunity.com/id/evcentric</td>\n",
       "      <td>Red Orchestra: Ostfront 41-45</td>\n",
       "      <td>923.0</td>\n",
       "      <td>0.26</td>\n",
       "    </tr>\n",
       "  </tbody>\n",
       "</table>\n",
       "</div>"
      ],
      "text/plain": [
       "             user_id  Action  Adventure  Racing  Simulation  Sports  Strategy  \\\n",
       "0  76561197970982479       0          0       0           0       0         0   \n",
       "1            js41637       0          0       0           0       0         0   \n",
       "2            js41637       0          0       0           0       0         1   \n",
       "3          evcentric       0          0       0           0       0         0   \n",
       "4          evcentric       1          1       0           0       0         0   \n",
       "\n",
       "                                            user_url  \\\n",
       "0  http://steamcommunity.com/profiles/76561197970...   \n",
       "1               http://steamcommunity.com/id/js41637   \n",
       "2               http://steamcommunity.com/id/js41637   \n",
       "3             http://steamcommunity.com/id/evcentric   \n",
       "4             http://steamcommunity.com/id/evcentric   \n",
       "\n",
       "                       item_name  playtime_forever  playtime_hours  \n",
       "0                 Counter-Strike               6.0            0.00  \n",
       "1                 Counter-Strike               0.0            0.00  \n",
       "2                 Counter-Strike               0.0            0.00  \n",
       "3  Red Orchestra: Ostfront 41-45             923.0            0.26  \n",
       "4  Red Orchestra: Ostfront 41-45             923.0            0.26  "
      ]
     },
     "execution_count": 29,
     "metadata": {},
     "output_type": "execute_result"
    }
   ],
   "source": [
    "df4.head()"
   ]
  },
  {
   "cell_type": "markdown",
   "metadata": {},
   "source": [
    "funcion 4\n",
    "\n",
    "def userforgenre( género : str ): Top 5 de usuarios con más horas de juego en el género dado, con su URL (del user) y user_id."
   ]
  },
  {
   "cell_type": "code",
   "execution_count": 13,
   "metadata": {},
   "outputs": [],
   "source": [
    "df4 = pd.DataFrame(df4)"
   ]
  },
  {
   "cell_type": "code",
   "execution_count": null,
   "metadata": {},
   "outputs": [],
   "source": [
    "def userforgenre(genero:str):\n",
    "    # validar escritura\n",
    "    genero = genero.title()\n",
    "\n",
    "    # Filtrar el DataFrame original por el género especificado\n",
    "    df_filtered = df4[df4[genero] == 1]\n",
    "\n",
    "    if df_filtered.empty:\n",
    "        return {\"Mensaje\": \"No se encontraron datos para el género especificado.\"}\n",
    "\n",
    "    # Ordenar el DataFrame filtrado por horas de juego en orden descendente\n",
    "    df_sorted = df_filtered.sort_values(by='playtime_hours', ascending=False)\n",
    "\n",
    "    # Tomar las primeras 5 filas (Top 5)\n",
    "    top_5 = df_sorted.head(5)\n",
    "\n",
    "    # Resetear el índice para mostrarlo en el resultado final\n",
    "    top_5.reset_index(drop=True, inplace=True)\n",
    "\n",
    "    # Seleccionar las columnas deseadas\n",
    "    result = top_5[['user_id', 'user_url', 'playtime_hours', genero]]\n",
    "\n",
    "    # Convertir el resultado en un diccionario\n",
    "    result_dict = result.to_dict(orient='records')\n",
    "\n",
    "    return result_dict"
   ]
  },
  {
   "cell_type": "code",
   "execution_count": 15,
   "metadata": {},
   "outputs": [
    {
     "data": {
      "text/plain": [
       "Index(['user_id', 'Action', 'Adventure', 'Racing', 'Simulation', 'Sports',\n",
       "       'Strategy', 'user_url', 'item_name', 'playtime_forever',\n",
       "       'playtime_hours'],\n",
       "      dtype='object')"
      ]
     },
     "execution_count": 15,
     "metadata": {},
     "output_type": "execute_result"
    }
   ],
   "source": [
    "df4.columns"
   ]
  },
  {
   "cell_type": "code",
   "execution_count": 16,
   "metadata": {},
   "outputs": [
    {
     "data": {
      "text/html": [
       "<div>\n",
       "<style scoped>\n",
       "    .dataframe tbody tr th:only-of-type {\n",
       "        vertical-align: middle;\n",
       "    }\n",
       "\n",
       "    .dataframe tbody tr th {\n",
       "        vertical-align: top;\n",
       "    }\n",
       "\n",
       "    .dataframe thead th {\n",
       "        text-align: right;\n",
       "    }\n",
       "</style>\n",
       "<table border=\"1\" class=\"dataframe\">\n",
       "  <thead>\n",
       "    <tr style=\"text-align: right;\">\n",
       "      <th></th>\n",
       "      <th>user_id</th>\n",
       "      <th>user_url</th>\n",
       "      <th>playtime_hours</th>\n",
       "      <th>Action</th>\n",
       "    </tr>\n",
       "  </thead>\n",
       "  <tbody>\n",
       "    <tr>\n",
       "      <th>0</th>\n",
       "      <td>76561198078738103</td>\n",
       "      <td>http://steamcommunity.com/profiles/76561198078...</td>\n",
       "      <td>84.30</td>\n",
       "      <td>1</td>\n",
       "    </tr>\n",
       "    <tr>\n",
       "      <th>1</th>\n",
       "      <td>TehMev</td>\n",
       "      <td>http://steamcommunity.com/id/TehMev</td>\n",
       "      <td>58.16</td>\n",
       "      <td>1</td>\n",
       "    </tr>\n",
       "    <tr>\n",
       "      <th>2</th>\n",
       "      <td>frompanem</td>\n",
       "      <td>http://steamcommunity.com/id/frompanem</td>\n",
       "      <td>52.60</td>\n",
       "      <td>1</td>\n",
       "    </tr>\n",
       "    <tr>\n",
       "      <th>3</th>\n",
       "      <td>Whyyyyyyyyyyyyyyyy</td>\n",
       "      <td>http://steamcommunity.com/id/Whyyyyyyyyyyyyyyyy</td>\n",
       "      <td>52.55</td>\n",
       "      <td>1</td>\n",
       "    </tr>\n",
       "    <tr>\n",
       "      <th>4</th>\n",
       "      <td>76561198081358616</td>\n",
       "      <td>http://steamcommunity.com/profiles/76561198081...</td>\n",
       "      <td>49.72</td>\n",
       "      <td>1</td>\n",
       "    </tr>\n",
       "  </tbody>\n",
       "</table>\n",
       "</div>"
      ],
      "text/plain": [
       "              user_id                                           user_url  \\\n",
       "0   76561198078738103  http://steamcommunity.com/profiles/76561198078...   \n",
       "1              TehMev                http://steamcommunity.com/id/TehMev   \n",
       "2           frompanem             http://steamcommunity.com/id/frompanem   \n",
       "3  Whyyyyyyyyyyyyyyyy    http://steamcommunity.com/id/Whyyyyyyyyyyyyyyyy   \n",
       "4   76561198081358616  http://steamcommunity.com/profiles/76561198081...   \n",
       "\n",
       "   playtime_hours  Action  \n",
       "0           84.30       1  \n",
       "1           58.16       1  \n",
       "2           52.60       1  \n",
       "3           52.55       1  \n",
       "4           49.72       1  "
      ]
     },
     "execution_count": 16,
     "metadata": {},
     "output_type": "execute_result"
    }
   ],
   "source": [
    "# Ejemplo de uso\n",
    "genero_deseado = 'Action'  # Cambia esto al género que desees consultar\n",
    "top_5_usuarios = userforgenre(genero_deseado)\n",
    "top_5_usuarios"
   ]
  },
  {
   "cell_type": "markdown",
   "metadata": {},
   "source": [
    "Funcion 5 \n",
    "\n",
    "def developer( desarrollador : str ): Cantidad de items y porcentaje de contenido Free por año según empresa desarrolladora."
   ]
  },
  {
   "cell_type": "code",
   "execution_count": null,
   "metadata": {},
   "outputs": [],
   "source": []
  },
  {
   "cell_type": "code",
   "execution_count": null,
   "metadata": {},
   "outputs": [],
   "source": [
    "def developer( desarrollador : str ):\n",
    "    # Filtrar el DataFrame para obtener solo las filas del desarrollador especificado\n",
    "    df_filtrado = df_gamesf5_free[df_gamesf5_free['developer'] == desarrollador]\n",
    "    \n",
    "    # Calcular el porcentaje de contenido Free por año\n",
    "    conteo_free_por_anio = df_filtrado[df_filtrado['price'].str.contains('Free', case=False)]\n",
    "    conteo_free_por_anio = conteo_free_por_anio['year'].value_counts(normalize=True).reset_index()\n",
    "    conteo_free_por_anio.columns = ['Año', 'Contenido Free']\n",
    "    conteo_free_por_anio['Contenido Free'] = (conteo_free_por_anio['Contenido Free'] * 100).round(2).astype(str) + ' %'\n",
    "    \n",
    "  # Convertir el resultado en un diccionario\n",
    "    result_dict = conteo_free_por_anio.to_dict(orient='records')\n",
    "    \n",
    "    return result_dict"
   ]
  },
  {
   "cell_type": "code",
   "execution_count": null,
   "metadata": {},
   "outputs": [
    {
     "data": {
      "text/plain": [
       "[{'Año': 2018, 'Contenido Free': '100.0 %'}]"
      ]
     },
     "execution_count": 44,
     "metadata": {},
     "output_type": "execute_result"
    }
   ],
   "source": [
    "desarrollador = 'Engin Mercan'\n",
    "resultado = developer(desarrollador)\n",
    "resultado"
   ]
  },
  {
   "cell_type": "markdown",
   "metadata": {},
   "source": [
    "Funcion 6\n",
    "\n",
    "def sentiment_analysis( año : int ): Según el año de lanzamiento, se devuelve una lista con la cantidad de registros de reseñas de usuarios que se encuentren categorizados con un análisis de sentimiento."
   ]
  },
  {
   "cell_type": "code",
   "execution_count": null,
   "metadata": {},
   "outputs": [],
   "source": [
    "df6 = pd.DataFrame('')"
   ]
  },
  {
   "cell_type": "code",
   "execution_count": null,
   "metadata": {},
   "outputs": [],
   "source": [
    "# importar librería\n",
    "from textblob import TextBlob"
   ]
  },
  {
   "cell_type": "code",
   "execution_count": null,
   "metadata": {},
   "outputs": [],
   "source": [
    "# función para obtener el análisis\n",
    "def get_sentiment(review):\n",
    "    blob = TextBlob(review)\n",
    "    polarity = blob.sentiment.polarity\n",
    "    if polarity > 0:\n",
    "        return 1  # positiva\n",
    "    elif polarity < 0:\n",
    "        return -1  # negativa\n",
    "    else:\n",
    "        return 0  # neutra"
   ]
  },
  {
   "cell_type": "code",
   "execution_count": null,
   "metadata": {},
   "outputs": [],
   "source": [
    "# aplicar la función\n",
    "df['sentiment'] = df['review'].apply(get_sentiment)"
   ]
  }
 ],
 "metadata": {
  "kernelspec": {
   "display_name": "Python 3",
   "language": "python",
   "name": "python3"
  },
  "language_info": {
   "codemirror_mode": {
    "name": "ipython",
    "version": 3
   },
   "file_extension": ".py",
   "mimetype": "text/x-python",
   "name": "python",
   "nbconvert_exporter": "python",
   "pygments_lexer": "ipython3",
   "version": "3.11.4"
  },
  "orig_nbformat": 4
 },
 "nbformat": 4,
 "nbformat_minor": 2
}
