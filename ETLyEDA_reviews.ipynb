{
 "cells": [
  {
   "cell_type": "markdown",
   "metadata": {},
   "source": [
    "Importar librerias"
   ]
  },
  {
   "cell_type": "code",
   "execution_count": 89,
   "metadata": {},
   "outputs": [],
   "source": [
    "import pandas as pd\n",
    "import numpy as np\n",
    "import json\n",
    "import matplotlib.pyplot as plt\n",
    "import seaborn as sns\n",
    "import ipywidgets as widgets \n",
    "import ast\n",
    "import gzip\n",
    "import pandas as pd\n",
    "from io import StringIO\n",
    "import gdown\n",
    "import requests\n"
   ]
  },
  {
   "cell_type": "markdown",
   "metadata": {},
   "source": [
    "Crear rutas de archivos"
   ]
  },
  {
   "cell_type": "code",
   "execution_count": 96,
   "metadata": {},
   "outputs": [],
   "source": [
    "\n",
    "# URL de descarga directa del archivo JSON desde Google Drive\n",
    "ruta_reviews = 'https://drive.google.com/uc?id=1_JWEl2MCLCvYKUAJH94KoYu1aQFYBivX'\n"
   ]
  },
  {
   "cell_type": "markdown",
   "metadata": {},
   "source": [
    "Leer archivo Json reviews"
   ]
  },
  {
   "cell_type": "code",
   "execution_count": null,
   "metadata": {},
   "outputs": [],
   "source": [
    "def lac():\n",
    "    with open(ruta_reviews, \"rt\", encoding=\"utf-8\") as file:\n",
    "        return [ast.literal_eval(line.strip()) for line in file]\n",
    "\n",
    "datos = lac()\n",
    "df_user_reviews_orig = pd.DataFrame(datos)\n"
   ]
  },
  {
   "cell_type": "markdown",
   "metadata": {},
   "source": [
    "Eliminar espacios en blanco"
   ]
  },
  {
   "cell_type": "code",
   "execution_count": 22,
   "metadata": {},
   "outputs": [],
   "source": [
    "# Aplicar strip() a cada celda del DataFrame para eliminar espacios en blanco\n",
    "df_user_reviews_orig = df_user_reviews_orig.applymap(lambda x: x.strip() if isinstance(x, str) else x)"
   ]
  },
  {
   "cell_type": "markdown",
   "metadata": {},
   "source": [
    "Crear CSV original reviews. \n",
    "\n",
    "Asi podemos dejar de utilizar el archivo Json que es mas pesado al momento de realizar su descarga y utilizar uno mas manejable como es CSV"
   ]
  },
  {
   "cell_type": "code",
   "execution_count": 25,
   "metadata": {},
   "outputs": [
    {
     "name": "stdout",
     "output_type": "stream",
     "text": [
      "DataFrame guardado como archivo CSV en: C:\\Users\\computadora\\Downloads\\Labs Henrys PI\\ProyectoIndividualML.JC\\DF_CSV_FUNCIONES\\df_reviews_orig.csv\n"
     ]
    }
   ],
   "source": [
    "# Ruta donde deseas guardar el archivo CSV\n",
    "ruta_csv = r\"C:\\Users\\computadora\\Desktop\\ProyectoIndividualML.JC\\ProyectoIndividualML.JC\\df_reviews_orig.csv\"  # Cambia esta ruta a la que desees\n",
    "\n",
    "# Guarda el DataFrame en un archivo CSV\n",
    "df_user_reviews_orig.to_csv(ruta_csv, index=False)  # El argumento 'index=False' evita que se incluya el índice en el archivo CSV\n",
    "\n",
    "print(\"DataFrame guardado como archivo CSV en:\", ruta_csv)"
   ]
  },
  {
   "cell_type": "markdown",
   "metadata": {},
   "source": [
    "Cargar el DF desde el CSV que creamos"
   ]
  },
  {
   "cell_type": "code",
   "execution_count": 27,
   "metadata": {},
   "outputs": [],
   "source": [
    "archivo = (r'../ProyectoIndividualML.JC/df_reviews_orig.csv')\n",
    "df_user_reviews_orig = pd.read_csv(archivo)"
   ]
  },
  {
   "cell_type": "markdown",
   "metadata": {},
   "source": [
    "utilizamos el metodo info() para visualizar el tipo de datos, la catidad de registros, catidad de columnas y el  tamaño en memoria de la data."
   ]
  },
  {
   "cell_type": "code",
   "execution_count": 28,
   "metadata": {},
   "outputs": [
    {
     "name": "stdout",
     "output_type": "stream",
     "text": [
      "<class 'pandas.core.frame.DataFrame'>\n",
      "RangeIndex: 25799 entries, 0 to 25798\n",
      "Data columns (total 3 columns):\n",
      " #   Column    Non-Null Count  Dtype \n",
      "---  ------    --------------  ----- \n",
      " 0   user_id   25799 non-null  object\n",
      " 1   user_url  25799 non-null  object\n",
      " 2   reviews   25799 non-null  object\n",
      "dtypes: object(3)\n",
      "memory usage: 604.8+ KB\n"
     ]
    }
   ],
   "source": [
    "df_user_reviews_orig.info()"
   ]
  },
  {
   "cell_type": "code",
   "execution_count": 29,
   "metadata": {},
   "outputs": [
    {
     "data": {
      "text/html": [
       "<div>\n",
       "<style scoped>\n",
       "    .dataframe tbody tr th:only-of-type {\n",
       "        vertical-align: middle;\n",
       "    }\n",
       "\n",
       "    .dataframe tbody tr th {\n",
       "        vertical-align: top;\n",
       "    }\n",
       "\n",
       "    .dataframe thead th {\n",
       "        text-align: right;\n",
       "    }\n",
       "</style>\n",
       "<table border=\"1\" class=\"dataframe\">\n",
       "  <thead>\n",
       "    <tr style=\"text-align: right;\">\n",
       "      <th></th>\n",
       "      <th>user_id</th>\n",
       "      <th>user_url</th>\n",
       "      <th>reviews</th>\n",
       "    </tr>\n",
       "  </thead>\n",
       "  <tbody>\n",
       "    <tr>\n",
       "      <th>3879</th>\n",
       "      <td>10101010101010109</td>\n",
       "      <td>http://steamcommunity.com/id/10101010101010109</td>\n",
       "      <td>[{'funny': '', 'posted': 'Posted December 15, ...</td>\n",
       "    </tr>\n",
       "    <tr>\n",
       "      <th>20952</th>\n",
       "      <td>76561198058892591</td>\n",
       "      <td>http://steamcommunity.com/profiles/76561198058...</td>\n",
       "      <td>[{'funny': '', 'posted': 'Posted March 21, 201...</td>\n",
       "    </tr>\n",
       "    <tr>\n",
       "      <th>22908</th>\n",
       "      <td>bringmeababytosacrifice</td>\n",
       "      <td>http://steamcommunity.com/id/bringmeababytosac...</td>\n",
       "      <td>[{'funny': '', 'posted': 'Posted July 25, 2015...</td>\n",
       "    </tr>\n",
       "  </tbody>\n",
       "</table>\n",
       "</div>"
      ],
      "text/plain": [
       "                       user_id  \\\n",
       "3879         10101010101010109   \n",
       "20952        76561198058892591   \n",
       "22908  bringmeababytosacrifice   \n",
       "\n",
       "                                                user_url  \\\n",
       "3879      http://steamcommunity.com/id/10101010101010109   \n",
       "20952  http://steamcommunity.com/profiles/76561198058...   \n",
       "22908  http://steamcommunity.com/id/bringmeababytosac...   \n",
       "\n",
       "                                                 reviews  \n",
       "3879   [{'funny': '', 'posted': 'Posted December 15, ...  \n",
       "20952  [{'funny': '', 'posted': 'Posted March 21, 201...  \n",
       "22908  [{'funny': '', 'posted': 'Posted July 25, 2015...  "
      ]
     },
     "execution_count": 29,
     "metadata": {},
     "output_type": "execute_result"
    }
   ],
   "source": [
    "df_user_reviews_orig.sample(3)"
   ]
  },
  {
   "cell_type": "markdown",
   "metadata": {},
   "source": [
    "Podemos visualizar la data atraves de un Datframe y evidenciamos que posee:\n",
    "\n",
    "  * 3 columnas \n",
    "  * Una contien el user_id que podriamos determinar como la columna de identificacion unica,\n",
    "  \n",
    "  * luego la columna user_url que contiene datos de las url suponemos del usuario ya que al finalizar coinciden con el user_id \n",
    "  \n",
    "  * y por ultimo una columna de reviews que contine datos en formato json anidados."
   ]
  },
  {
   "cell_type": "markdown",
   "metadata": {},
   "source": [
    "aca vamos a detallar los valores dentro de la columna reviews"
   ]
  },
  {
   "cell_type": "code",
   "execution_count": 30,
   "metadata": {},
   "outputs": [
    {
     "data": {
      "text/plain": [
       "1986     [{'funny': '1 person found this review funny',...\n",
       "15105    [{'funny': '', 'posted': 'Posted December 25, ...\n",
       "2060     [{'funny': '1 person found this review funny',...\n",
       "Name: reviews, dtype: object"
      ]
     },
     "execution_count": 30,
     "metadata": {},
     "output_type": "execute_result"
    }
   ],
   "source": [
    "df_user_reviews_orig['reviews'].sample(3)"
   ]
  },
  {
   "cell_type": "markdown",
   "metadata": {},
   "source": [
    "Crear DF solo con la columna user_id y reviews para desnaidar los datos que se encuentras dentro de ella"
   ]
  },
  {
   "cell_type": "code",
   "execution_count": 31,
   "metadata": {},
   "outputs": [
    {
     "data": {
      "text/html": [
       "<div>\n",
       "<style scoped>\n",
       "    .dataframe tbody tr th:only-of-type {\n",
       "        vertical-align: middle;\n",
       "    }\n",
       "\n",
       "    .dataframe tbody tr th {\n",
       "        vertical-align: top;\n",
       "    }\n",
       "\n",
       "    .dataframe thead th {\n",
       "        text-align: right;\n",
       "    }\n",
       "</style>\n",
       "<table border=\"1\" class=\"dataframe\">\n",
       "  <thead>\n",
       "    <tr style=\"text-align: right;\">\n",
       "      <th></th>\n",
       "      <th>user_id</th>\n",
       "      <th>reviews</th>\n",
       "    </tr>\n",
       "  </thead>\n",
       "  <tbody>\n",
       "    <tr>\n",
       "      <th>0</th>\n",
       "      <td>76561197970982479</td>\n",
       "      <td>[{'funny': '', 'posted': 'Posted November 5, 2...</td>\n",
       "    </tr>\n",
       "    <tr>\n",
       "      <th>1</th>\n",
       "      <td>js41637</td>\n",
       "      <td>[{'funny': '', 'posted': 'Posted June 24, 2014...</td>\n",
       "    </tr>\n",
       "    <tr>\n",
       "      <th>2</th>\n",
       "      <td>evcentric</td>\n",
       "      <td>[{'funny': '', 'posted': 'Posted February 3.',...</td>\n",
       "    </tr>\n",
       "  </tbody>\n",
       "</table>\n",
       "</div>"
      ],
      "text/plain": [
       "             user_id                                            reviews\n",
       "0  76561197970982479  [{'funny': '', 'posted': 'Posted November 5, 2...\n",
       "1            js41637  [{'funny': '', 'posted': 'Posted June 24, 2014...\n",
       "2          evcentric  [{'funny': '', 'posted': 'Posted February 3.',..."
      ]
     },
     "execution_count": 31,
     "metadata": {},
     "output_type": "execute_result"
    }
   ],
   "source": [
    "df_user_reviews_orig[['user_id','reviews']].head(3)"
   ]
  },
  {
   "cell_type": "markdown",
   "metadata": {},
   "source": [
    "Procederemos a realizar un Limpieza de Datos al DF que creamos apartir de la columna reviews y user_id\n",
    "ya que con esta informacion podemos crear el dataset con el que podemos armar una de las funciones requeridas"
   ]
  },
  {
   "cell_type": "markdown",
   "metadata": {},
   "source": [
    "Verificacion de datos duplicados en columna user_id."
   ]
  },
  {
   "cell_type": "code",
   "execution_count": 32,
   "metadata": {},
   "outputs": [
    {
     "data": {
      "text/plain": [
       "314"
      ]
     },
     "execution_count": 32,
     "metadata": {},
     "output_type": "execute_result"
    }
   ],
   "source": [
    "duplicados = df_user_reviews_orig.duplicated('user_id')\n",
    "duplicados.sum()"
   ]
  },
  {
   "cell_type": "markdown",
   "metadata": {},
   "source": [
    "Creamos un DF solo con los valores no duplicados en la columna user_id"
   ]
  },
  {
   "cell_type": "code",
   "execution_count": 33,
   "metadata": {},
   "outputs": [
    {
     "data": {
      "text/html": [
       "<div>\n",
       "<style scoped>\n",
       "    .dataframe tbody tr th:only-of-type {\n",
       "        vertical-align: middle;\n",
       "    }\n",
       "\n",
       "    .dataframe tbody tr th {\n",
       "        vertical-align: top;\n",
       "    }\n",
       "\n",
       "    .dataframe thead th {\n",
       "        text-align: right;\n",
       "    }\n",
       "</style>\n",
       "<table border=\"1\" class=\"dataframe\">\n",
       "  <thead>\n",
       "    <tr style=\"text-align: right;\">\n",
       "      <th></th>\n",
       "      <th>user_id</th>\n",
       "      <th>user_url</th>\n",
       "      <th>reviews</th>\n",
       "    </tr>\n",
       "  </thead>\n",
       "  <tbody>\n",
       "    <tr>\n",
       "      <th>456</th>\n",
       "      <td>bokkkbokkk</td>\n",
       "      <td>http://steamcommunity.com/id/bokkkbokkk</td>\n",
       "      <td>[{'funny': '', 'posted': 'Posted September 24,...</td>\n",
       "    </tr>\n",
       "    <tr>\n",
       "      <th>1182</th>\n",
       "      <td>ImSeriouss</td>\n",
       "      <td>http://steamcommunity.com/id/ImSeriouss</td>\n",
       "      <td>[{'funny': '', 'posted': 'Posted January 10, 2...</td>\n",
       "    </tr>\n",
       "    <tr>\n",
       "      <th>1456</th>\n",
       "      <td>76561198062039159</td>\n",
       "      <td>http://steamcommunity.com/profiles/76561198062...</td>\n",
       "      <td>[{'funny': '', 'posted': 'Posted August 24, 20...</td>\n",
       "    </tr>\n",
       "    <tr>\n",
       "      <th>1477</th>\n",
       "      <td>76561198045009232</td>\n",
       "      <td>http://steamcommunity.com/profiles/76561198045...</td>\n",
       "      <td>[{'funny': '', 'posted': 'Posted October 31, 2...</td>\n",
       "    </tr>\n",
       "    <tr>\n",
       "      <th>1746</th>\n",
       "      <td>nitr0ticwolf</td>\n",
       "      <td>http://steamcommunity.com/id/nitr0ticwolf</td>\n",
       "      <td>[{'funny': '', 'posted': 'Posted December 12, ...</td>\n",
       "    </tr>\n",
       "    <tr>\n",
       "      <th>...</th>\n",
       "      <td>...</td>\n",
       "      <td>...</td>\n",
       "      <td>...</td>\n",
       "    </tr>\n",
       "    <tr>\n",
       "      <th>17819</th>\n",
       "      <td>76561198076474887</td>\n",
       "      <td>http://steamcommunity.com/profiles/76561198076...</td>\n",
       "      <td>[{'funny': '', 'posted': 'Posted April 12.', '...</td>\n",
       "    </tr>\n",
       "    <tr>\n",
       "      <th>17916</th>\n",
       "      <td>yolofaceguy</td>\n",
       "      <td>http://steamcommunity.com/id/yolofaceguy</td>\n",
       "      <td>[{'funny': '', 'posted': 'Posted October 31, 2...</td>\n",
       "    </tr>\n",
       "    <tr>\n",
       "      <th>18028</th>\n",
       "      <td>76561198075591109</td>\n",
       "      <td>http://steamcommunity.com/profiles/76561198075...</td>\n",
       "      <td>[{'funny': '', 'posted': 'Posted December 26, ...</td>\n",
       "    </tr>\n",
       "    <tr>\n",
       "      <th>18234</th>\n",
       "      <td>76561198092022514</td>\n",
       "      <td>http://steamcommunity.com/profiles/76561198092...</td>\n",
       "      <td>[{'funny': '', 'posted': 'Posted July 3.', 'la...</td>\n",
       "    </tr>\n",
       "    <tr>\n",
       "      <th>18309</th>\n",
       "      <td>SuchGayMuchWow</td>\n",
       "      <td>http://steamcommunity.com/id/SuchGayMuchWow</td>\n",
       "      <td>[{'funny': '', 'posted': 'Posted July 18, 2015...</td>\n",
       "    </tr>\n",
       "  </tbody>\n",
       "</table>\n",
       "<p>314 rows × 3 columns</p>\n",
       "</div>"
      ],
      "text/plain": [
       "                 user_id                                           user_url  \\\n",
       "456           bokkkbokkk            http://steamcommunity.com/id/bokkkbokkk   \n",
       "1182          ImSeriouss            http://steamcommunity.com/id/ImSeriouss   \n",
       "1456   76561198062039159  http://steamcommunity.com/profiles/76561198062...   \n",
       "1477   76561198045009232  http://steamcommunity.com/profiles/76561198045...   \n",
       "1746        nitr0ticwolf          http://steamcommunity.com/id/nitr0ticwolf   \n",
       "...                  ...                                                ...   \n",
       "17819  76561198076474887  http://steamcommunity.com/profiles/76561198076...   \n",
       "17916        yolofaceguy           http://steamcommunity.com/id/yolofaceguy   \n",
       "18028  76561198075591109  http://steamcommunity.com/profiles/76561198075...   \n",
       "18234  76561198092022514  http://steamcommunity.com/profiles/76561198092...   \n",
       "18309     SuchGayMuchWow        http://steamcommunity.com/id/SuchGayMuchWow   \n",
       "\n",
       "                                                 reviews  \n",
       "456    [{'funny': '', 'posted': 'Posted September 24,...  \n",
       "1182   [{'funny': '', 'posted': 'Posted January 10, 2...  \n",
       "1456   [{'funny': '', 'posted': 'Posted August 24, 20...  \n",
       "1477   [{'funny': '', 'posted': 'Posted October 31, 2...  \n",
       "1746   [{'funny': '', 'posted': 'Posted December 12, ...  \n",
       "...                                                  ...  \n",
       "17819  [{'funny': '', 'posted': 'Posted April 12.', '...  \n",
       "17916  [{'funny': '', 'posted': 'Posted October 31, 2...  \n",
       "18028  [{'funny': '', 'posted': 'Posted December 26, ...  \n",
       "18234  [{'funny': '', 'posted': 'Posted July 3.', 'la...  \n",
       "18309  [{'funny': '', 'posted': 'Posted July 18, 2015...  \n",
       "\n",
       "[314 rows x 3 columns]"
      ]
     },
     "execution_count": 33,
     "metadata": {},
     "output_type": "execute_result"
    }
   ],
   "source": [
    "df_user_reviews_orig = df_user_reviews_orig[duplicados]\n",
    "df_user_reviews_orig"
   ]
  },
  {
   "cell_type": "code",
   "execution_count": 34,
   "metadata": {},
   "outputs": [
    {
     "name": "stdout",
     "output_type": "stream",
     "text": [
      "<class 'pandas.core.frame.DataFrame'>\n",
      "Index: 314 entries, 456 to 18309\n",
      "Data columns (total 3 columns):\n",
      " #   Column    Non-Null Count  Dtype \n",
      "---  ------    --------------  ----- \n",
      " 0   user_id   314 non-null    object\n",
      " 1   user_url  314 non-null    object\n",
      " 2   reviews   314 non-null    object\n",
      "dtypes: object(3)\n",
      "memory usage: 9.8+ KB\n"
     ]
    }
   ],
   "source": [
    "df_user_reviews_orig.info()"
   ]
  },
  {
   "cell_type": "markdown",
   "metadata": {},
   "source": [
    "Verificra regsitros Nulos"
   ]
  },
  {
   "cell_type": "code",
   "execution_count": 35,
   "metadata": {},
   "outputs": [
    {
     "data": {
      "text/plain": [
       "user_id     0\n",
       "user_url    0\n",
       "reviews     0\n",
       "dtype: int64"
      ]
     },
     "execution_count": 35,
     "metadata": {},
     "output_type": "execute_result"
    }
   ],
   "source": [
    "df_user_reviews_orig.isnull().sum()"
   ]
  },
  {
   "cell_type": "markdown",
   "metadata": {},
   "source": [
    "Verificar resgitros en blancos"
   ]
  },
  {
   "cell_type": "code",
   "execution_count": 36,
   "metadata": {},
   "outputs": [
    {
     "data": {
      "text/plain": [
       "user_id     0\n",
       "user_url    0\n",
       "reviews     0\n",
       "dtype: int64"
      ]
     },
     "execution_count": 36,
     "metadata": {},
     "output_type": "execute_result"
    }
   ],
   "source": [
    "df_user_reviews_orig.isna().sum()"
   ]
  },
  {
   "cell_type": "markdown",
   "metadata": {},
   "source": [
    "Desanidar DF datos_reviews"
   ]
  },
  {
   "cell_type": "markdown",
   "metadata": {},
   "source": [
    "Observar la estructura de la primera fila de los valores"
   ]
  },
  {
   "cell_type": "code",
   "execution_count": 37,
   "metadata": {},
   "outputs": [
    {
     "data": {
      "text/plain": [
       "\"[{'funny': '', 'posted': 'Posted September 24, 2015.', 'last_edited': '', 'item_id': '346110', 'helpful': '1 of 1 people (100%) found this review helpful', 'recommend': True, 'review': 'yep'}]\""
      ]
     },
     "execution_count": 37,
     "metadata": {},
     "output_type": "execute_result"
    }
   ],
   "source": [
    "primera_review = df_user_reviews_orig['reviews'].iloc[0]\n",
    "primera_review"
   ]
  },
  {
   "cell_type": "markdown",
   "metadata": {},
   "source": [
    "Observamos que:\n",
    "\n",
    "poseen datos en formato de Diccionario cuyas claves son:\n",
    "\n",
    "- funny : valor\n",
    "- posted : valor        *** en este valor nos vamos a enfocar ya que necesitamos la fecha para la funcion a trabajar\n",
    "- last_edited : valor\n",
    "- item_id : valor\n",
    "- helpful : valor\n",
    "- recommend : valor      *** este dato posee valores booleanos que vamos a a transformar en valores bit 1 True y 0 False\n",
    "- review : valor         *** aca este valor tambie sera utilizadon en una funcion posteriormente "
   ]
  },
  {
   "cell_type": "code",
   "execution_count": 91,
   "metadata": {},
   "outputs": [
    {
     "data": {
      "text/html": [
       "<div>\n",
       "<style scoped>\n",
       "    .dataframe tbody tr th:only-of-type {\n",
       "        vertical-align: middle;\n",
       "    }\n",
       "\n",
       "    .dataframe tbody tr th {\n",
       "        vertical-align: top;\n",
       "    }\n",
       "\n",
       "    .dataframe thead th {\n",
       "        text-align: right;\n",
       "    }\n",
       "</style>\n",
       "<table border=\"1\" class=\"dataframe\">\n",
       "  <thead>\n",
       "    <tr style=\"text-align: right;\">\n",
       "      <th></th>\n",
       "      <th>user_id</th>\n",
       "      <th>user_url</th>\n",
       "      <th>reviews</th>\n",
       "    </tr>\n",
       "  </thead>\n",
       "  <tbody>\n",
       "    <tr>\n",
       "      <th>0</th>\n",
       "      <td>bokkkbokkk</td>\n",
       "      <td>http://steamcommunity.com/id/bokkkbokkk</td>\n",
       "      <td>[{'funny': '', 'posted': 'Posted September 24,...</td>\n",
       "    </tr>\n",
       "    <tr>\n",
       "      <th>1</th>\n",
       "      <td>ImSeriouss</td>\n",
       "      <td>http://steamcommunity.com/id/ImSeriouss</td>\n",
       "      <td>[{'funny': '', 'posted': 'Posted January 10, 2...</td>\n",
       "    </tr>\n",
       "    <tr>\n",
       "      <th>2</th>\n",
       "      <td>76561198062039159</td>\n",
       "      <td>http://steamcommunity.com/profiles/76561198062...</td>\n",
       "      <td>[{'funny': '', 'posted': 'Posted August 24, 20...</td>\n",
       "    </tr>\n",
       "    <tr>\n",
       "      <th>3</th>\n",
       "      <td>76561198045009232</td>\n",
       "      <td>http://steamcommunity.com/profiles/76561198045...</td>\n",
       "      <td>[{'funny': '', 'posted': 'Posted October 31, 2...</td>\n",
       "    </tr>\n",
       "    <tr>\n",
       "      <th>4</th>\n",
       "      <td>nitr0ticwolf</td>\n",
       "      <td>http://steamcommunity.com/id/nitr0ticwolf</td>\n",
       "      <td>[{'funny': '', 'posted': 'Posted December 12, ...</td>\n",
       "    </tr>\n",
       "    <tr>\n",
       "      <th>...</th>\n",
       "      <td>...</td>\n",
       "      <td>...</td>\n",
       "      <td>...</td>\n",
       "    </tr>\n",
       "    <tr>\n",
       "      <th>309</th>\n",
       "      <td>76561198076474887</td>\n",
       "      <td>http://steamcommunity.com/profiles/76561198076...</td>\n",
       "      <td>[{'funny': '', 'posted': 'Posted April 12.', '...</td>\n",
       "    </tr>\n",
       "    <tr>\n",
       "      <th>310</th>\n",
       "      <td>yolofaceguy</td>\n",
       "      <td>http://steamcommunity.com/id/yolofaceguy</td>\n",
       "      <td>[{'funny': '', 'posted': 'Posted October 31, 2...</td>\n",
       "    </tr>\n",
       "    <tr>\n",
       "      <th>311</th>\n",
       "      <td>76561198075591109</td>\n",
       "      <td>http://steamcommunity.com/profiles/76561198075...</td>\n",
       "      <td>[{'funny': '', 'posted': 'Posted December 26, ...</td>\n",
       "    </tr>\n",
       "    <tr>\n",
       "      <th>312</th>\n",
       "      <td>76561198092022514</td>\n",
       "      <td>http://steamcommunity.com/profiles/76561198092...</td>\n",
       "      <td>[{'funny': '', 'posted': 'Posted July 3.', 'la...</td>\n",
       "    </tr>\n",
       "    <tr>\n",
       "      <th>313</th>\n",
       "      <td>SuchGayMuchWow</td>\n",
       "      <td>http://steamcommunity.com/id/SuchGayMuchWow</td>\n",
       "      <td>[{'funny': '', 'posted': 'Posted July 18, 2015...</td>\n",
       "    </tr>\n",
       "  </tbody>\n",
       "</table>\n",
       "<p>314 rows × 3 columns</p>\n",
       "</div>"
      ],
      "text/plain": [
       "               user_id                                           user_url  \\\n",
       "0           bokkkbokkk            http://steamcommunity.com/id/bokkkbokkk   \n",
       "1           ImSeriouss            http://steamcommunity.com/id/ImSeriouss   \n",
       "2    76561198062039159  http://steamcommunity.com/profiles/76561198062...   \n",
       "3    76561198045009232  http://steamcommunity.com/profiles/76561198045...   \n",
       "4         nitr0ticwolf          http://steamcommunity.com/id/nitr0ticwolf   \n",
       "..                 ...                                                ...   \n",
       "309  76561198076474887  http://steamcommunity.com/profiles/76561198076...   \n",
       "310        yolofaceguy           http://steamcommunity.com/id/yolofaceguy   \n",
       "311  76561198075591109  http://steamcommunity.com/profiles/76561198075...   \n",
       "312  76561198092022514  http://steamcommunity.com/profiles/76561198092...   \n",
       "313     SuchGayMuchWow        http://steamcommunity.com/id/SuchGayMuchWow   \n",
       "\n",
       "                                               reviews  \n",
       "0    [{'funny': '', 'posted': 'Posted September 24,...  \n",
       "1    [{'funny': '', 'posted': 'Posted January 10, 2...  \n",
       "2    [{'funny': '', 'posted': 'Posted August 24, 20...  \n",
       "3    [{'funny': '', 'posted': 'Posted October 31, 2...  \n",
       "4    [{'funny': '', 'posted': 'Posted December 12, ...  \n",
       "..                                                 ...  \n",
       "309  [{'funny': '', 'posted': 'Posted April 12.', '...  \n",
       "310  [{'funny': '', 'posted': 'Posted October 31, 2...  \n",
       "311  [{'funny': '', 'posted': 'Posted December 26, ...  \n",
       "312  [{'funny': '', 'posted': 'Posted July 3.', 'la...  \n",
       "313  [{'funny': '', 'posted': 'Posted July 18, 2015...  \n",
       "\n",
       "[314 rows x 3 columns]"
      ]
     },
     "execution_count": 91,
     "metadata": {},
     "output_type": "execute_result"
    }
   ],
   "source": [
    "df_user_reviews_orig = pd.read_json('../ProyectoIndividualML.JC/user_reviews.json')\n",
    "df_user_reviews_orig"
   ]
  },
  {
   "cell_type": "code",
   "execution_count": 92,
   "metadata": {},
   "outputs": [],
   "source": [
    "# Reemplaza las comillas simples por comillas dobles en la columna \"reviews\"\n",
    "df_user_reviews_orig['reviews'] = df_user_reviews_orig['reviews'].str.replace(\"'\", '\"')"
   ]
  },
  {
   "cell_type": "markdown",
   "metadata": {},
   "source": [
    "Desanidar la columna reviews"
   ]
  },
  {
   "cell_type": "code",
   "execution_count": null,
   "metadata": {},
   "outputs": [],
   "source": [
    "# Inicializa una lista vacía para almacenar los datos de la columna \"reviews\"\n",
    "datos_reviews = []\n",
    "\n",
    "# Recorre el DataFrame y la columna \"reviews\"\n",
    "for index, fila in df_user_reviews_orig.iterrows():\n",
    "    for review in fila[\"reviews\"]:\n",
    "        datos_reviews.append({\n",
    "            \"user_id\": fila[\"user_id\"],\n",
    "            \"user_url\": fila[\"user_url\"],\n",
    "            \"funny\": review.get(\"funny\", \"\"),  \n",
    "            \"posted\": review.get(\"posted\", \"\"),\n",
    "            \"last_edited\": review.get(\"last_edited\", \"\"),\n",
    "            \"item_id\": review.get(\"item_id\", \"\"),\n",
    "            \"helpful\": review.get(\"helpful\", \"\"),\n",
    "            \"recommend\":review.get(\"recommend\", \"\"),\n",
    "            \"review\":review.get(\"review\", \"\")\n",
    "        })\n",
    "\n",
    "# Convierte la lista de datos en un nuevo DataFrame\n",
    "datos_reviews_desanidados = pd.DataFrame(datos_reviews)\n",
    "\n",
    "\n"
   ]
  },
  {
   "cell_type": "markdown",
   "metadata": {},
   "source": [
    "Crear CSV Desanidados reviews"
   ]
  },
  {
   "cell_type": "code",
   "execution_count": 16,
   "metadata": {},
   "outputs": [
    {
     "name": "stdout",
     "output_type": "stream",
     "text": [
      "DataFrame guardado como archivo CSV en: C:\\Users\\computadora\\Downloads\\Labs Henrys PI\\datos_reviews_desanidados.csv\n"
     ]
    }
   ],
   "source": [
    "# Ruta donde deseas guardar el archivo CSV\n",
    "ruta_csv = r\"C:\\Users\\computadora\\Desktop\\ProyectoML.JC\\ProyectoIndividualML.JC\\datos_reviews_desanidados.csv\"  # Cambia esta ruta a la que desees\n",
    "\n",
    "# Guarda el DataFrame en un archivo CSV\n",
    "datos_reviews_desanidados.to_csv(ruta_csv, index=False)  # El argumento 'index=False' evita que se incluya el índice en el archivo CSV\n",
    "\n",
    "print(\"DataFrame guardado como archivo CSV en:\", ruta_csv)"
   ]
  },
  {
   "cell_type": "code",
   "execution_count": 133,
   "metadata": {},
   "outputs": [
    {
     "data": {
      "text/html": [
       "<div>\n",
       "<style scoped>\n",
       "    .dataframe tbody tr th:only-of-type {\n",
       "        vertical-align: middle;\n",
       "    }\n",
       "\n",
       "    .dataframe tbody tr th {\n",
       "        vertical-align: top;\n",
       "    }\n",
       "\n",
       "    .dataframe thead th {\n",
       "        text-align: right;\n",
       "    }\n",
       "</style>\n",
       "<table border=\"1\" class=\"dataframe\">\n",
       "  <thead>\n",
       "    <tr style=\"text-align: right;\">\n",
       "      <th></th>\n",
       "      <th>user_id</th>\n",
       "      <th>user_url</th>\n",
       "      <th>funny</th>\n",
       "      <th>posted</th>\n",
       "      <th>last_edited</th>\n",
       "      <th>item_id</th>\n",
       "      <th>helpful</th>\n",
       "      <th>recommend</th>\n",
       "      <th>review</th>\n",
       "    </tr>\n",
       "  </thead>\n",
       "  <tbody>\n",
       "    <tr>\n",
       "      <th>0</th>\n",
       "      <td>76561197970982479</td>\n",
       "      <td>http://steamcommunity.com/profiles/76561197970...</td>\n",
       "      <td>NaN</td>\n",
       "      <td>Posted November 5, 2011.</td>\n",
       "      <td>NaN</td>\n",
       "      <td>1250</td>\n",
       "      <td>No ratings yet</td>\n",
       "      <td>True</td>\n",
       "      <td>Simple yet with great replayability. In my opi...</td>\n",
       "    </tr>\n",
       "    <tr>\n",
       "      <th>1</th>\n",
       "      <td>76561197970982479</td>\n",
       "      <td>http://steamcommunity.com/profiles/76561197970...</td>\n",
       "      <td>NaN</td>\n",
       "      <td>Posted July 15, 2011.</td>\n",
       "      <td>NaN</td>\n",
       "      <td>22200</td>\n",
       "      <td>No ratings yet</td>\n",
       "      <td>True</td>\n",
       "      <td>It's unique and worth a playthrough.</td>\n",
       "    </tr>\n",
       "    <tr>\n",
       "      <th>2</th>\n",
       "      <td>76561197970982479</td>\n",
       "      <td>http://steamcommunity.com/profiles/76561197970...</td>\n",
       "      <td>NaN</td>\n",
       "      <td>Posted April 21, 2011.</td>\n",
       "      <td>NaN</td>\n",
       "      <td>43110</td>\n",
       "      <td>No ratings yet</td>\n",
       "      <td>True</td>\n",
       "      <td>Great atmosphere. The gunplay can be a bit chu...</td>\n",
       "    </tr>\n",
       "  </tbody>\n",
       "</table>\n",
       "</div>"
      ],
      "text/plain": [
       "             user_id                                           user_url funny  \\\n",
       "0  76561197970982479  http://steamcommunity.com/profiles/76561197970...   NaN   \n",
       "1  76561197970982479  http://steamcommunity.com/profiles/76561197970...   NaN   \n",
       "2  76561197970982479  http://steamcommunity.com/profiles/76561197970...   NaN   \n",
       "\n",
       "                     posted last_edited  item_id         helpful  recommend  \\\n",
       "0  Posted November 5, 2011.         NaN     1250  No ratings yet       True   \n",
       "1     Posted July 15, 2011.         NaN    22200  No ratings yet       True   \n",
       "2    Posted April 21, 2011.         NaN    43110  No ratings yet       True   \n",
       "\n",
       "                                              review  \n",
       "0  Simple yet with great replayability. In my opi...  \n",
       "1               It's unique and worth a playthrough.  \n",
       "2  Great atmosphere. The gunplay can be a bit chu...  "
      ]
     },
     "execution_count": 133,
     "metadata": {},
     "output_type": "execute_result"
    }
   ],
   "source": [
    "datos_reviews_desanidados = pd.read_csv('../ProyectoIndividualML.JC/datos_reviews_desanidados.csv')\n",
    "datos_reviews_desanidados.head(3)"
   ]
  },
  {
   "cell_type": "markdown",
   "metadata": {},
   "source": [
    "Crear un DF solo con la columna ['posted'] para luego desanidarla"
   ]
  },
  {
   "cell_type": "code",
   "execution_count": 134,
   "metadata": {},
   "outputs": [
    {
     "data": {
      "text/html": [
       "<div>\n",
       "<style scoped>\n",
       "    .dataframe tbody tr th:only-of-type {\n",
       "        vertical-align: middle;\n",
       "    }\n",
       "\n",
       "    .dataframe tbody tr th {\n",
       "        vertical-align: top;\n",
       "    }\n",
       "\n",
       "    .dataframe thead th {\n",
       "        text-align: right;\n",
       "    }\n",
       "</style>\n",
       "<table border=\"1\" class=\"dataframe\">\n",
       "  <thead>\n",
       "    <tr style=\"text-align: right;\">\n",
       "      <th></th>\n",
       "      <th>user_id</th>\n",
       "      <th>posted</th>\n",
       "    </tr>\n",
       "  </thead>\n",
       "  <tbody>\n",
       "    <tr>\n",
       "      <th>0</th>\n",
       "      <td>76561197970982479</td>\n",
       "      <td>Posted November 5, 2011.</td>\n",
       "    </tr>\n",
       "    <tr>\n",
       "      <th>1</th>\n",
       "      <td>76561197970982479</td>\n",
       "      <td>Posted July 15, 2011.</td>\n",
       "    </tr>\n",
       "    <tr>\n",
       "      <th>2</th>\n",
       "      <td>76561197970982479</td>\n",
       "      <td>Posted April 21, 2011.</td>\n",
       "    </tr>\n",
       "  </tbody>\n",
       "</table>\n",
       "</div>"
      ],
      "text/plain": [
       "             user_id                    posted\n",
       "0  76561197970982479  Posted November 5, 2011.\n",
       "1  76561197970982479     Posted July 15, 2011.\n",
       "2  76561197970982479    Posted April 21, 2011."
      ]
     },
     "execution_count": 134,
     "metadata": {},
     "output_type": "execute_result"
    }
   ],
   "source": [
    "def_posted = pd.DataFrame(datos_reviews_desanidados[['user_id','posted']])\n",
    "def_posted.head(3)"
   ]
  },
  {
   "cell_type": "markdown",
   "metadata": {},
   "source": [
    "Limpiar DF def_posted creado con nuevo_df_reviews['posted']"
   ]
  },
  {
   "cell_type": "code",
   "execution_count": 135,
   "metadata": {},
   "outputs": [],
   "source": [
    "\n",
    "# Eliminar los puntos de la columna 'texto' utilizando .str.replace()\n",
    "def_posted['posted'] = def_posted['posted'].str.replace('.', '')\n",
    "def_posted['posted'] = def_posted['posted'].str.replace(',', '')\n",
    "def_posted['posted'] = def_posted['posted'].str.replace('Posted', '')\n",
    "\n"
   ]
  },
  {
   "cell_type": "code",
   "execution_count": 136,
   "metadata": {},
   "outputs": [
    {
     "data": {
      "text/html": [
       "<div>\n",
       "<style scoped>\n",
       "    .dataframe tbody tr th:only-of-type {\n",
       "        vertical-align: middle;\n",
       "    }\n",
       "\n",
       "    .dataframe tbody tr th {\n",
       "        vertical-align: top;\n",
       "    }\n",
       "\n",
       "    .dataframe thead th {\n",
       "        text-align: right;\n",
       "    }\n",
       "</style>\n",
       "<table border=\"1\" class=\"dataframe\">\n",
       "  <thead>\n",
       "    <tr style=\"text-align: right;\">\n",
       "      <th></th>\n",
       "      <th>user_id</th>\n",
       "      <th>posted</th>\n",
       "    </tr>\n",
       "  </thead>\n",
       "  <tbody>\n",
       "    <tr>\n",
       "      <th>0</th>\n",
       "      <td>76561197970982479</td>\n",
       "      <td>November 5 2011</td>\n",
       "    </tr>\n",
       "    <tr>\n",
       "      <th>1</th>\n",
       "      <td>76561197970982479</td>\n",
       "      <td>July 15 2011</td>\n",
       "    </tr>\n",
       "    <tr>\n",
       "      <th>2</th>\n",
       "      <td>76561197970982479</td>\n",
       "      <td>April 21 2011</td>\n",
       "    </tr>\n",
       "  </tbody>\n",
       "</table>\n",
       "</div>"
      ],
      "text/plain": [
       "             user_id            posted\n",
       "0  76561197970982479   November 5 2011\n",
       "1  76561197970982479      July 15 2011\n",
       "2  76561197970982479     April 21 2011"
      ]
     },
     "execution_count": 136,
     "metadata": {},
     "output_type": "execute_result"
    }
   ],
   "source": [
    "def_posted.head(3)"
   ]
  },
  {
   "cell_type": "markdown",
   "metadata": {},
   "source": [
    "Aca necesitamos separar la columna posted a fin de obtener la fecha en el siguiente formato\n",
    "YYYY-MM-DD"
   ]
  },
  {
   "cell_type": "markdown",
   "metadata": {},
   "source": [
    "Desanidar el DF def_posted"
   ]
  },
  {
   "cell_type": "code",
   "execution_count": 137,
   "metadata": {},
   "outputs": [
    {
     "data": {
      "text/plain": [
       "' November 5 2011'"
      ]
     },
     "execution_count": 137,
     "metadata": {},
     "output_type": "execute_result"
    }
   ],
   "source": [
    "primera_fila = def_posted['posted'].iloc[0]\n",
    "primera_fila"
   ]
  },
  {
   "cell_type": "markdown",
   "metadata": {},
   "source": [
    "Se observa que debemos:\n",
    "\n",
    "- separar los datos en Año, Mes y dia\n",
    "- Transformar los meses en numeros\n",
    "- y colocar dos digitos a los dias."
   ]
  },
  {
   "cell_type": "code",
   "execution_count": 138,
   "metadata": {},
   "outputs": [],
   "source": [
    "# Dividir la columna 'posted' en nuevas columnas de día, mes y año\n",
    "def_posted[['month', 'day', 'year']] = def_posted['posted'].str.split(' ', n=2, expand=True)\n",
    "\n",
    "# Eliminar la columna 'posted' original\n",
    "def_posted.drop(columns=['posted'], inplace=True)\n",
    "\n",
    "# Eliminar la columna 'month' original\n",
    "def_posted.drop(columns=['month'], inplace=True)"
   ]
  },
  {
   "cell_type": "code",
   "execution_count": 139,
   "metadata": {},
   "outputs": [
    {
     "data": {
      "text/html": [
       "<div>\n",
       "<style scoped>\n",
       "    .dataframe tbody tr th:only-of-type {\n",
       "        vertical-align: middle;\n",
       "    }\n",
       "\n",
       "    .dataframe tbody tr th {\n",
       "        vertical-align: top;\n",
       "    }\n",
       "\n",
       "    .dataframe thead th {\n",
       "        text-align: right;\n",
       "    }\n",
       "</style>\n",
       "<table border=\"1\" class=\"dataframe\">\n",
       "  <thead>\n",
       "    <tr style=\"text-align: right;\">\n",
       "      <th></th>\n",
       "      <th>user_id</th>\n",
       "      <th>day</th>\n",
       "      <th>year</th>\n",
       "    </tr>\n",
       "  </thead>\n",
       "  <tbody>\n",
       "    <tr>\n",
       "      <th>0</th>\n",
       "      <td>76561197970982479</td>\n",
       "      <td>November</td>\n",
       "      <td>5 2011</td>\n",
       "    </tr>\n",
       "    <tr>\n",
       "      <th>1</th>\n",
       "      <td>76561197970982479</td>\n",
       "      <td>July</td>\n",
       "      <td>15 2011</td>\n",
       "    </tr>\n",
       "    <tr>\n",
       "      <th>2</th>\n",
       "      <td>76561197970982479</td>\n",
       "      <td>April</td>\n",
       "      <td>21 2011</td>\n",
       "    </tr>\n",
       "  </tbody>\n",
       "</table>\n",
       "</div>"
      ],
      "text/plain": [
       "             user_id       day     year\n",
       "0  76561197970982479  November   5 2011\n",
       "1  76561197970982479      July  15 2011\n",
       "2  76561197970982479     April  21 2011"
      ]
     },
     "execution_count": 139,
     "metadata": {},
     "output_type": "execute_result"
    }
   ],
   "source": [
    "def_posted.head(3)"
   ]
  },
  {
   "cell_type": "code",
   "execution_count": 140,
   "metadata": {},
   "outputs": [],
   "source": [
    "# Usando .rename() para cambiar el nombre de la columna\n",
    "def_posted = def_posted.rename(columns={'day': 'month'})"
   ]
  },
  {
   "cell_type": "code",
   "execution_count": 141,
   "metadata": {},
   "outputs": [
    {
     "data": {
      "text/html": [
       "<div>\n",
       "<style scoped>\n",
       "    .dataframe tbody tr th:only-of-type {\n",
       "        vertical-align: middle;\n",
       "    }\n",
       "\n",
       "    .dataframe tbody tr th {\n",
       "        vertical-align: top;\n",
       "    }\n",
       "\n",
       "    .dataframe thead th {\n",
       "        text-align: right;\n",
       "    }\n",
       "</style>\n",
       "<table border=\"1\" class=\"dataframe\">\n",
       "  <thead>\n",
       "    <tr style=\"text-align: right;\">\n",
       "      <th></th>\n",
       "      <th>user_id</th>\n",
       "      <th>month</th>\n",
       "      <th>year</th>\n",
       "    </tr>\n",
       "  </thead>\n",
       "  <tbody>\n",
       "    <tr>\n",
       "      <th>0</th>\n",
       "      <td>76561197970982479</td>\n",
       "      <td>November</td>\n",
       "      <td>5 2011</td>\n",
       "    </tr>\n",
       "    <tr>\n",
       "      <th>1</th>\n",
       "      <td>76561197970982479</td>\n",
       "      <td>July</td>\n",
       "      <td>15 2011</td>\n",
       "    </tr>\n",
       "    <tr>\n",
       "      <th>2</th>\n",
       "      <td>76561197970982479</td>\n",
       "      <td>April</td>\n",
       "      <td>21 2011</td>\n",
       "    </tr>\n",
       "  </tbody>\n",
       "</table>\n",
       "</div>"
      ],
      "text/plain": [
       "             user_id     month     year\n",
       "0  76561197970982479  November   5 2011\n",
       "1  76561197970982479      July  15 2011\n",
       "2  76561197970982479     April  21 2011"
      ]
     },
     "execution_count": 141,
     "metadata": {},
     "output_type": "execute_result"
    }
   ],
   "source": [
    "def_posted.head(3)"
   ]
  },
  {
   "cell_type": "markdown",
   "metadata": {},
   "source": [
    "Modificar la columna 'month' de letras a numeros str"
   ]
  },
  {
   "cell_type": "code",
   "execution_count": 142,
   "metadata": {},
   "outputs": [],
   "source": [
    "\n",
    "# Diccionario de correspondencia entre meses y números\n",
    "meses_a_numeros = {\n",
    "    'January': '01',\n",
    "    'February': '02',\n",
    "    'March': '03',\n",
    "    'April': '04',\n",
    "    'May': '05',\n",
    "    'June': '06',\n",
    "    'July': '07',\n",
    "    'August': '08',\n",
    "    'September': '09',\n",
    "    'October': '10',\n",
    "    'November': '11',\n",
    "    'December': '12'\n",
    "}\n",
    "\n",
    "# Usar .map() para transformar los nombres de los meses en números de dos dígitos\n",
    "def_posted['meses_numeros'] = def_posted['month'].map(meses_a_numeros)\n",
    "\n",
    "# Eliminar la columna 'month' original\n",
    "def_posted.drop(columns=['month'], inplace=True)"
   ]
  },
  {
   "cell_type": "code",
   "execution_count": 143,
   "metadata": {},
   "outputs": [
    {
     "data": {
      "text/html": [
       "<div>\n",
       "<style scoped>\n",
       "    .dataframe tbody tr th:only-of-type {\n",
       "        vertical-align: middle;\n",
       "    }\n",
       "\n",
       "    .dataframe tbody tr th {\n",
       "        vertical-align: top;\n",
       "    }\n",
       "\n",
       "    .dataframe thead th {\n",
       "        text-align: right;\n",
       "    }\n",
       "</style>\n",
       "<table border=\"1\" class=\"dataframe\">\n",
       "  <thead>\n",
       "    <tr style=\"text-align: right;\">\n",
       "      <th></th>\n",
       "      <th>user_id</th>\n",
       "      <th>year</th>\n",
       "      <th>meses_numeros</th>\n",
       "    </tr>\n",
       "  </thead>\n",
       "  <tbody>\n",
       "    <tr>\n",
       "      <th>0</th>\n",
       "      <td>76561197970982479</td>\n",
       "      <td>5 2011</td>\n",
       "      <td>11</td>\n",
       "    </tr>\n",
       "    <tr>\n",
       "      <th>1</th>\n",
       "      <td>76561197970982479</td>\n",
       "      <td>15 2011</td>\n",
       "      <td>07</td>\n",
       "    </tr>\n",
       "    <tr>\n",
       "      <th>2</th>\n",
       "      <td>76561197970982479</td>\n",
       "      <td>21 2011</td>\n",
       "      <td>04</td>\n",
       "    </tr>\n",
       "  </tbody>\n",
       "</table>\n",
       "</div>"
      ],
      "text/plain": [
       "             user_id     year meses_numeros\n",
       "0  76561197970982479   5 2011            11\n",
       "1  76561197970982479  15 2011            07\n",
       "2  76561197970982479  21 2011            04"
      ]
     },
     "execution_count": 143,
     "metadata": {},
     "output_type": "execute_result"
    }
   ],
   "source": [
    "def_posted.head(3)"
   ]
  },
  {
   "cell_type": "markdown",
   "metadata": {},
   "source": [
    "Desagrupar la columna 'year' ya que contiene los valores de año y dia juntos"
   ]
  },
  {
   "cell_type": "code",
   "execution_count": 144,
   "metadata": {},
   "outputs": [],
   "source": [
    "# Dividir la columna 'year' en nuevas columnas de día y año\n",
    "def_posted[['day', 'year2']] = def_posted['year'].str.split(' ', n=2, expand=True)\n",
    "\n",
    "# Eliminar la columna 'year' original\n",
    "def_posted.drop(columns=['year'], inplace=True)\n"
   ]
  },
  {
   "cell_type": "code",
   "execution_count": 145,
   "metadata": {},
   "outputs": [],
   "source": [
    "# cambiar el nombre de las columna\n",
    "def_posted = def_posted.rename(columns={'year2': 'year'})\n",
    "def_posted = def_posted.rename(columns={'meses_numeros': 'mes'})"
   ]
  },
  {
   "cell_type": "code",
   "execution_count": 146,
   "metadata": {},
   "outputs": [
    {
     "data": {
      "text/html": [
       "<div>\n",
       "<style scoped>\n",
       "    .dataframe tbody tr th:only-of-type {\n",
       "        vertical-align: middle;\n",
       "    }\n",
       "\n",
       "    .dataframe tbody tr th {\n",
       "        vertical-align: top;\n",
       "    }\n",
       "\n",
       "    .dataframe thead th {\n",
       "        text-align: right;\n",
       "    }\n",
       "</style>\n",
       "<table border=\"1\" class=\"dataframe\">\n",
       "  <thead>\n",
       "    <tr style=\"text-align: right;\">\n",
       "      <th></th>\n",
       "      <th>user_id</th>\n",
       "      <th>mes</th>\n",
       "      <th>day</th>\n",
       "      <th>year</th>\n",
       "    </tr>\n",
       "  </thead>\n",
       "  <tbody>\n",
       "    <tr>\n",
       "      <th>30926</th>\n",
       "      <td>76561198057784617</td>\n",
       "      <td>07</td>\n",
       "      <td>26</td>\n",
       "      <td>2013</td>\n",
       "    </tr>\n",
       "    <tr>\n",
       "      <th>41043</th>\n",
       "      <td>76561197971402201</td>\n",
       "      <td>02</td>\n",
       "      <td>26</td>\n",
       "      <td>2014</td>\n",
       "    </tr>\n",
       "    <tr>\n",
       "      <th>10450</th>\n",
       "      <td>76561198079314761</td>\n",
       "      <td>01</td>\n",
       "      <td>23</td>\n",
       "      <td>None</td>\n",
       "    </tr>\n",
       "    <tr>\n",
       "      <th>36146</th>\n",
       "      <td>odkul</td>\n",
       "      <td>06</td>\n",
       "      <td>4</td>\n",
       "      <td>None</td>\n",
       "    </tr>\n",
       "    <tr>\n",
       "      <th>43763</th>\n",
       "      <td>aetheling</td>\n",
       "      <td>08</td>\n",
       "      <td>16</td>\n",
       "      <td>2013</td>\n",
       "    </tr>\n",
       "    <tr>\n",
       "      <th>...</th>\n",
       "      <td>...</td>\n",
       "      <td>...</td>\n",
       "      <td>...</td>\n",
       "      <td>...</td>\n",
       "    </tr>\n",
       "    <tr>\n",
       "      <th>32889</th>\n",
       "      <td>76561198031056726</td>\n",
       "      <td>07</td>\n",
       "      <td>4</td>\n",
       "      <td>2014</td>\n",
       "    </tr>\n",
       "    <tr>\n",
       "      <th>8864</th>\n",
       "      <td>76561198071052616</td>\n",
       "      <td>09</td>\n",
       "      <td>5</td>\n",
       "      <td>2015</td>\n",
       "    </tr>\n",
       "    <tr>\n",
       "      <th>7578</th>\n",
       "      <td>samuelx5</td>\n",
       "      <td>12</td>\n",
       "      <td>31</td>\n",
       "      <td>2014</td>\n",
       "    </tr>\n",
       "    <tr>\n",
       "      <th>48567</th>\n",
       "      <td>76561198056931853</td>\n",
       "      <td>06</td>\n",
       "      <td>19</td>\n",
       "      <td>2014</td>\n",
       "    </tr>\n",
       "    <tr>\n",
       "      <th>21344</th>\n",
       "      <td>76561198059450815</td>\n",
       "      <td>12</td>\n",
       "      <td>6</td>\n",
       "      <td>2012</td>\n",
       "    </tr>\n",
       "  </tbody>\n",
       "</table>\n",
       "<p>58430 rows × 4 columns</p>\n",
       "</div>"
      ],
      "text/plain": [
       "                 user_id mes day  year\n",
       "30926  76561198057784617  07  26  2013\n",
       "41043  76561197971402201  02  26  2014\n",
       "10450  76561198079314761  01  23  None\n",
       "36146              odkul  06   4  None\n",
       "43763          aetheling  08  16  2013\n",
       "...                  ...  ..  ..   ...\n",
       "32889  76561198031056726  07   4  2014\n",
       "8864   76561198071052616  09   5  2015\n",
       "7578            samuelx5  12  31  2014\n",
       "48567  76561198056931853  06  19  2014\n",
       "21344  76561198059450815  12   6  2012\n",
       "\n",
       "[58430 rows x 4 columns]"
      ]
     },
     "execution_count": 146,
     "metadata": {},
     "output_type": "execute_result"
    }
   ],
   "source": [
    "# Mostrar el resultado\n",
    "def_posted.sample(frac=1)"
   ]
  },
  {
   "cell_type": "markdown",
   "metadata": {},
   "source": [
    "verificra Nulos en el DF creado"
   ]
  },
  {
   "cell_type": "code",
   "execution_count": 147,
   "metadata": {},
   "outputs": [
    {
     "data": {
      "text/plain": [
       "user_id       0\n",
       "mes           0\n",
       "day           0\n",
       "year       9932\n",
       "dtype: int64"
      ]
     },
     "execution_count": 147,
     "metadata": {},
     "output_type": "execute_result"
    }
   ],
   "source": [
    "def_posted.isnull().sum()"
   ]
  },
  {
   "cell_type": "markdown",
   "metadata": {},
   "source": [
    "Imputar valores Nulos con la la moda en la columna year"
   ]
  },
  {
   "cell_type": "code",
   "execution_count": 148,
   "metadata": {},
   "outputs": [],
   "source": [
    "# ver el valor que mas se repite\n",
    "def_posted[\"year\"].mode()\n",
    "\n",
    "# imputar el valor en la columna year\n",
    "def_posted[\"year\"].fillna(def_posted[\"year\"].mode()[0], inplace=True)"
   ]
  },
  {
   "cell_type": "code",
   "execution_count": 149,
   "metadata": {},
   "outputs": [
    {
     "data": {
      "text/plain": [
       "user_id    0\n",
       "mes        0\n",
       "day        0\n",
       "year       0\n",
       "dtype: int64"
      ]
     },
     "execution_count": 149,
     "metadata": {},
     "output_type": "execute_result"
    }
   ],
   "source": [
    "def_posted.isnull().sum()"
   ]
  },
  {
   "cell_type": "code",
   "execution_count": 150,
   "metadata": {},
   "outputs": [
    {
     "data": {
      "text/html": [
       "<div>\n",
       "<style scoped>\n",
       "    .dataframe tbody tr th:only-of-type {\n",
       "        vertical-align: middle;\n",
       "    }\n",
       "\n",
       "    .dataframe tbody tr th {\n",
       "        vertical-align: top;\n",
       "    }\n",
       "\n",
       "    .dataframe thead th {\n",
       "        text-align: right;\n",
       "    }\n",
       "</style>\n",
       "<table border=\"1\" class=\"dataframe\">\n",
       "  <thead>\n",
       "    <tr style=\"text-align: right;\">\n",
       "      <th></th>\n",
       "      <th>user_id</th>\n",
       "      <th>mes</th>\n",
       "      <th>day</th>\n",
       "      <th>year</th>\n",
       "    </tr>\n",
       "  </thead>\n",
       "  <tbody>\n",
       "    <tr>\n",
       "      <th>2857</th>\n",
       "      <td>76561198095214263</td>\n",
       "      <td>01</td>\n",
       "      <td>18</td>\n",
       "      <td>2014</td>\n",
       "    </tr>\n",
       "    <tr>\n",
       "      <th>56312</th>\n",
       "      <td>gw4545</td>\n",
       "      <td>01</td>\n",
       "      <td>3</td>\n",
       "      <td>2014</td>\n",
       "    </tr>\n",
       "    <tr>\n",
       "      <th>24007</th>\n",
       "      <td>AkkarinDarkmoor</td>\n",
       "      <td>09</td>\n",
       "      <td>13</td>\n",
       "      <td>2014</td>\n",
       "    </tr>\n",
       "    <tr>\n",
       "      <th>44478</th>\n",
       "      <td>serpentine19</td>\n",
       "      <td>04</td>\n",
       "      <td>10</td>\n",
       "      <td>2014</td>\n",
       "    </tr>\n",
       "    <tr>\n",
       "      <th>41390</th>\n",
       "      <td>76561198084686700</td>\n",
       "      <td>08</td>\n",
       "      <td>29</td>\n",
       "      <td>2015</td>\n",
       "    </tr>\n",
       "    <tr>\n",
       "      <th>...</th>\n",
       "      <td>...</td>\n",
       "      <td>...</td>\n",
       "      <td>...</td>\n",
       "      <td>...</td>\n",
       "    </tr>\n",
       "    <tr>\n",
       "      <th>47797</th>\n",
       "      <td>ricardojr190</td>\n",
       "      <td>08</td>\n",
       "      <td>30</td>\n",
       "      <td>2014</td>\n",
       "    </tr>\n",
       "    <tr>\n",
       "      <th>11228</th>\n",
       "      <td>MAKLO_GEMING_xDDDD</td>\n",
       "      <td>10</td>\n",
       "      <td>27</td>\n",
       "      <td>2015</td>\n",
       "    </tr>\n",
       "    <tr>\n",
       "      <th>7406</th>\n",
       "      <td>Aussiefella_69</td>\n",
       "      <td>09</td>\n",
       "      <td>26</td>\n",
       "      <td>2015</td>\n",
       "    </tr>\n",
       "    <tr>\n",
       "      <th>5463</th>\n",
       "      <td>ethanabey</td>\n",
       "      <td>07</td>\n",
       "      <td>2</td>\n",
       "      <td>2014</td>\n",
       "    </tr>\n",
       "    <tr>\n",
       "      <th>4187</th>\n",
       "      <td>76561198092005436</td>\n",
       "      <td>12</td>\n",
       "      <td>22</td>\n",
       "      <td>2014</td>\n",
       "    </tr>\n",
       "  </tbody>\n",
       "</table>\n",
       "<p>58430 rows × 4 columns</p>\n",
       "</div>"
      ],
      "text/plain": [
       "                  user_id mes day  year\n",
       "2857    76561198095214263  01  18  2014\n",
       "56312              gw4545  01   3  2014\n",
       "24007     AkkarinDarkmoor  09  13  2014\n",
       "44478        serpentine19  04  10  2014\n",
       "41390   76561198084686700  08  29  2015\n",
       "...                   ...  ..  ..   ...\n",
       "47797        ricardojr190  08  30  2014\n",
       "11228  MAKLO_GEMING_xDDDD  10  27  2015\n",
       "7406       Aussiefella_69  09  26  2015\n",
       "5463            ethanabey  07   2  2014\n",
       "4187    76561198092005436  12  22  2014\n",
       "\n",
       "[58430 rows x 4 columns]"
      ]
     },
     "execution_count": 150,
     "metadata": {},
     "output_type": "execute_result"
    }
   ],
   "source": [
    "# Mostrar el resultado\n",
    "def_posted.sample(frac=1)"
   ]
  },
  {
   "cell_type": "markdown",
   "metadata": {},
   "source": [
    "Crear una columna completa con los datos de las columnas def_posted'['mes','day','year']. Asegurando 2 digitos para dia y mes"
   ]
  },
  {
   "cell_type": "code",
   "execution_count": 151,
   "metadata": {},
   "outputs": [],
   "source": [
    "def_posted['fecha'] = def_posted.apply(lambda row: f\"{row['year']}-{str(row['mes']).zfill(2)}-{str(row['day']).zfill(2)}\", axis=1)"
   ]
  },
  {
   "cell_type": "code",
   "execution_count": 152,
   "metadata": {},
   "outputs": [
    {
     "data": {
      "text/html": [
       "<div>\n",
       "<style scoped>\n",
       "    .dataframe tbody tr th:only-of-type {\n",
       "        vertical-align: middle;\n",
       "    }\n",
       "\n",
       "    .dataframe tbody tr th {\n",
       "        vertical-align: top;\n",
       "    }\n",
       "\n",
       "    .dataframe thead th {\n",
       "        text-align: right;\n",
       "    }\n",
       "</style>\n",
       "<table border=\"1\" class=\"dataframe\">\n",
       "  <thead>\n",
       "    <tr style=\"text-align: right;\">\n",
       "      <th></th>\n",
       "      <th>user_id</th>\n",
       "      <th>mes</th>\n",
       "      <th>day</th>\n",
       "      <th>year</th>\n",
       "      <th>fecha</th>\n",
       "    </tr>\n",
       "  </thead>\n",
       "  <tbody>\n",
       "    <tr>\n",
       "      <th>0</th>\n",
       "      <td>76561197970982479</td>\n",
       "      <td>11</td>\n",
       "      <td>5</td>\n",
       "      <td>2011</td>\n",
       "      <td>2011-11-05</td>\n",
       "    </tr>\n",
       "    <tr>\n",
       "      <th>1</th>\n",
       "      <td>76561197970982479</td>\n",
       "      <td>07</td>\n",
       "      <td>15</td>\n",
       "      <td>2011</td>\n",
       "      <td>2011-07-15</td>\n",
       "    </tr>\n",
       "    <tr>\n",
       "      <th>2</th>\n",
       "      <td>76561197970982479</td>\n",
       "      <td>04</td>\n",
       "      <td>21</td>\n",
       "      <td>2011</td>\n",
       "      <td>2011-04-21</td>\n",
       "    </tr>\n",
       "    <tr>\n",
       "      <th>3</th>\n",
       "      <td>js41637</td>\n",
       "      <td>06</td>\n",
       "      <td>24</td>\n",
       "      <td>2014</td>\n",
       "      <td>2014-06-24</td>\n",
       "    </tr>\n",
       "    <tr>\n",
       "      <th>4</th>\n",
       "      <td>js41637</td>\n",
       "      <td>09</td>\n",
       "      <td>8</td>\n",
       "      <td>2013</td>\n",
       "      <td>2013-09-08</td>\n",
       "    </tr>\n",
       "    <tr>\n",
       "      <th>...</th>\n",
       "      <td>...</td>\n",
       "      <td>...</td>\n",
       "      <td>...</td>\n",
       "      <td>...</td>\n",
       "      <td>...</td>\n",
       "    </tr>\n",
       "    <tr>\n",
       "      <th>58425</th>\n",
       "      <td>76561198312638244</td>\n",
       "      <td>07</td>\n",
       "      <td>10</td>\n",
       "      <td>2014</td>\n",
       "      <td>2014-07-10</td>\n",
       "    </tr>\n",
       "    <tr>\n",
       "      <th>58426</th>\n",
       "      <td>76561198312638244</td>\n",
       "      <td>07</td>\n",
       "      <td>8</td>\n",
       "      <td>2014</td>\n",
       "      <td>2014-07-08</td>\n",
       "    </tr>\n",
       "    <tr>\n",
       "      <th>58427</th>\n",
       "      <td>LydiaMorley</td>\n",
       "      <td>07</td>\n",
       "      <td>3</td>\n",
       "      <td>2014</td>\n",
       "      <td>2014-07-03</td>\n",
       "    </tr>\n",
       "    <tr>\n",
       "      <th>58428</th>\n",
       "      <td>LydiaMorley</td>\n",
       "      <td>07</td>\n",
       "      <td>20</td>\n",
       "      <td>2014</td>\n",
       "      <td>2014-07-20</td>\n",
       "    </tr>\n",
       "    <tr>\n",
       "      <th>58429</th>\n",
       "      <td>LydiaMorley</td>\n",
       "      <td>07</td>\n",
       "      <td>2</td>\n",
       "      <td>2014</td>\n",
       "      <td>2014-07-02</td>\n",
       "    </tr>\n",
       "  </tbody>\n",
       "</table>\n",
       "<p>58430 rows × 5 columns</p>\n",
       "</div>"
      ],
      "text/plain": [
       "                 user_id mes day  year       fecha\n",
       "0      76561197970982479  11   5  2011  2011-11-05\n",
       "1      76561197970982479  07  15  2011  2011-07-15\n",
       "2      76561197970982479  04  21  2011  2011-04-21\n",
       "3                js41637  06  24  2014  2014-06-24\n",
       "4                js41637  09   8  2013  2013-09-08\n",
       "...                  ...  ..  ..   ...         ...\n",
       "58425  76561198312638244  07  10  2014  2014-07-10\n",
       "58426  76561198312638244  07   8  2014  2014-07-08\n",
       "58427        LydiaMorley  07   3  2014  2014-07-03\n",
       "58428        LydiaMorley  07  20  2014  2014-07-20\n",
       "58429        LydiaMorley  07   2  2014  2014-07-02\n",
       "\n",
       "[58430 rows x 5 columns]"
      ]
     },
     "execution_count": 152,
     "metadata": {},
     "output_type": "execute_result"
    }
   ],
   "source": [
    "def_posted"
   ]
  },
  {
   "cell_type": "markdown",
   "metadata": {},
   "source": [
    "Cambiar de la columna ['recommend'] los valores True por 1 y los False por 0"
   ]
  },
  {
   "cell_type": "code",
   "execution_count": 153,
   "metadata": {},
   "outputs": [
    {
     "data": {
      "text/html": [
       "<div>\n",
       "<style scoped>\n",
       "    .dataframe tbody tr th:only-of-type {\n",
       "        vertical-align: middle;\n",
       "    }\n",
       "\n",
       "    .dataframe tbody tr th {\n",
       "        vertical-align: top;\n",
       "    }\n",
       "\n",
       "    .dataframe thead th {\n",
       "        text-align: right;\n",
       "    }\n",
       "</style>\n",
       "<table border=\"1\" class=\"dataframe\">\n",
       "  <thead>\n",
       "    <tr style=\"text-align: right;\">\n",
       "      <th></th>\n",
       "      <th>recommend</th>\n",
       "    </tr>\n",
       "  </thead>\n",
       "  <tbody>\n",
       "    <tr>\n",
       "      <th>54702</th>\n",
       "      <td>1</td>\n",
       "    </tr>\n",
       "    <tr>\n",
       "      <th>35429</th>\n",
       "      <td>1</td>\n",
       "    </tr>\n",
       "    <tr>\n",
       "      <th>32757</th>\n",
       "      <td>1</td>\n",
       "    </tr>\n",
       "    <tr>\n",
       "      <th>3242</th>\n",
       "      <td>1</td>\n",
       "    </tr>\n",
       "    <tr>\n",
       "      <th>21539</th>\n",
       "      <td>1</td>\n",
       "    </tr>\n",
       "    <tr>\n",
       "      <th>...</th>\n",
       "      <td>...</td>\n",
       "    </tr>\n",
       "    <tr>\n",
       "      <th>42366</th>\n",
       "      <td>1</td>\n",
       "    </tr>\n",
       "    <tr>\n",
       "      <th>50891</th>\n",
       "      <td>0</td>\n",
       "    </tr>\n",
       "    <tr>\n",
       "      <th>6572</th>\n",
       "      <td>1</td>\n",
       "    </tr>\n",
       "    <tr>\n",
       "      <th>18195</th>\n",
       "      <td>1</td>\n",
       "    </tr>\n",
       "    <tr>\n",
       "      <th>22276</th>\n",
       "      <td>1</td>\n",
       "    </tr>\n",
       "  </tbody>\n",
       "</table>\n",
       "<p>58430 rows × 1 columns</p>\n",
       "</div>"
      ],
      "text/plain": [
       "       recommend\n",
       "54702          1\n",
       "35429          1\n",
       "32757          1\n",
       "3242           1\n",
       "21539          1\n",
       "...          ...\n",
       "42366          1\n",
       "50891          0\n",
       "6572           1\n",
       "18195          1\n",
       "22276          1\n",
       "\n",
       "[58430 rows x 1 columns]"
      ]
     },
     "execution_count": 153,
     "metadata": {},
     "output_type": "execute_result"
    }
   ],
   "source": [
    "datos_reviews_desanidados[['recommend']] = datos_reviews_desanidados[['recommend']].replace({True: 1, False: 0})\n",
    "\n",
    "# Imprimir el nuevo DataFrame df_recommended\n",
    "datos_reviews_desanidados[['recommend']].sample(frac=1)"
   ]
  },
  {
   "cell_type": "markdown",
   "metadata": {},
   "source": [
    "Verificar valores nulos"
   ]
  },
  {
   "cell_type": "code",
   "execution_count": 154,
   "metadata": {},
   "outputs": [
    {
     "data": {
      "text/plain": [
       "recommend    0\n",
       "dtype: int64"
      ]
     },
     "execution_count": 154,
     "metadata": {},
     "output_type": "execute_result"
    }
   ],
   "source": [
    "datos_reviews_desanidados[['recommend']].isnull().sum()"
   ]
  },
  {
   "cell_type": "markdown",
   "metadata": {},
   "source": [
    "Crear el DF para la API con las columnas : ['fecha'],['user_id'],['recommend']. para funcion 2 solicitada"
   ]
  },
  {
   "cell_type": "code",
   "execution_count": 155,
   "metadata": {},
   "outputs": [],
   "source": [
    "columnas_seleccionadas = [def_posted['fecha'],datos_reviews_desanidados['user_id'],datos_reviews_desanidados['recommend'] ] \n",
    "# Lista de nombres de columnas a seleccionar\n",
    "\n",
    "# Crear un nuevo DataFrame df_original con las columnas seleccionadas\n",
    "def_reviews_api2 = pd.concat(columnas_seleccionadas, axis=1)"
   ]
  },
  {
   "cell_type": "code",
   "execution_count": 156,
   "metadata": {},
   "outputs": [
    {
     "data": {
      "text/html": [
       "<div>\n",
       "<style scoped>\n",
       "    .dataframe tbody tr th:only-of-type {\n",
       "        vertical-align: middle;\n",
       "    }\n",
       "\n",
       "    .dataframe tbody tr th {\n",
       "        vertical-align: top;\n",
       "    }\n",
       "\n",
       "    .dataframe thead th {\n",
       "        text-align: right;\n",
       "    }\n",
       "</style>\n",
       "<table border=\"1\" class=\"dataframe\">\n",
       "  <thead>\n",
       "    <tr style=\"text-align: right;\">\n",
       "      <th></th>\n",
       "      <th>fecha</th>\n",
       "      <th>user_id</th>\n",
       "      <th>recommend</th>\n",
       "    </tr>\n",
       "  </thead>\n",
       "  <tbody>\n",
       "    <tr>\n",
       "      <th>41379</th>\n",
       "      <td>2013-07-19</td>\n",
       "      <td>HuskyWaffle</td>\n",
       "      <td>1</td>\n",
       "    </tr>\n",
       "    <tr>\n",
       "      <th>17838</th>\n",
       "      <td>2015-10-20</td>\n",
       "      <td>shadowpulse29</td>\n",
       "      <td>0</td>\n",
       "    </tr>\n",
       "    <tr>\n",
       "      <th>31587</th>\n",
       "      <td>2013-12-26</td>\n",
       "      <td>76561198076701454</td>\n",
       "      <td>1</td>\n",
       "    </tr>\n",
       "    <tr>\n",
       "      <th>57102</th>\n",
       "      <td>2014-08-04</td>\n",
       "      <td>76561198106878606</td>\n",
       "      <td>1</td>\n",
       "    </tr>\n",
       "    <tr>\n",
       "      <th>31957</th>\n",
       "      <td>2012-07-12</td>\n",
       "      <td>djreap3r</td>\n",
       "      <td>1</td>\n",
       "    </tr>\n",
       "    <tr>\n",
       "      <th>...</th>\n",
       "      <td>...</td>\n",
       "      <td>...</td>\n",
       "      <td>...</td>\n",
       "    </tr>\n",
       "    <tr>\n",
       "      <th>40159</th>\n",
       "      <td>2014-01-05</td>\n",
       "      <td>TSGStosh</td>\n",
       "      <td>1</td>\n",
       "    </tr>\n",
       "    <tr>\n",
       "      <th>40283</th>\n",
       "      <td>2014-06-26</td>\n",
       "      <td>76561197997129113</td>\n",
       "      <td>1</td>\n",
       "    </tr>\n",
       "    <tr>\n",
       "      <th>47931</th>\n",
       "      <td>2014-11-02</td>\n",
       "      <td>green290</td>\n",
       "      <td>1</td>\n",
       "    </tr>\n",
       "    <tr>\n",
       "      <th>48370</th>\n",
       "      <td>2014-11-11</td>\n",
       "      <td>zeejackass</td>\n",
       "      <td>1</td>\n",
       "    </tr>\n",
       "    <tr>\n",
       "      <th>33392</th>\n",
       "      <td>2014-02-21</td>\n",
       "      <td>76561198090530209</td>\n",
       "      <td>0</td>\n",
       "    </tr>\n",
       "  </tbody>\n",
       "</table>\n",
       "<p>58430 rows × 3 columns</p>\n",
       "</div>"
      ],
      "text/plain": [
       "            fecha            user_id  recommend\n",
       "41379  2013-07-19        HuskyWaffle          1\n",
       "17838  2015-10-20      shadowpulse29          0\n",
       "31587  2013-12-26  76561198076701454          1\n",
       "57102  2014-08-04  76561198106878606          1\n",
       "31957  2012-07-12           djreap3r          1\n",
       "...           ...                ...        ...\n",
       "40159  2014-01-05           TSGStosh          1\n",
       "40283  2014-06-26  76561197997129113          1\n",
       "47931  2014-11-02           green290          1\n",
       "48370  2014-11-11         zeejackass          1\n",
       "33392  2014-02-21  76561198090530209          0\n",
       "\n",
       "[58430 rows x 3 columns]"
      ]
     },
     "execution_count": 156,
     "metadata": {},
     "output_type": "execute_result"
    }
   ],
   "source": [
    "def_reviews_api2.sample(frac=1)"
   ]
  },
  {
   "cell_type": "markdown",
   "metadata": {},
   "source": [
    "eliminar los valores duplicados del DF"
   ]
  },
  {
   "cell_type": "code",
   "execution_count": 157,
   "metadata": {},
   "outputs": [],
   "source": [
    "\n",
    "# Crear un nuevo DataFrame con los valores únicos de la columna \"user_id\"\n",
    "def_reviews_api2['user_id'] = def_reviews_api2[['user_id']].drop_duplicates()\n"
   ]
  },
  {
   "cell_type": "code",
   "execution_count": 163,
   "metadata": {},
   "outputs": [],
   "source": [
    "def_reviews_api2 = def_reviews_api2.dropna()"
   ]
  },
  {
   "cell_type": "code",
   "execution_count": 164,
   "metadata": {},
   "outputs": [
    {
     "data": {
      "text/html": [
       "<div>\n",
       "<style scoped>\n",
       "    .dataframe tbody tr th:only-of-type {\n",
       "        vertical-align: middle;\n",
       "    }\n",
       "\n",
       "    .dataframe tbody tr th {\n",
       "        vertical-align: top;\n",
       "    }\n",
       "\n",
       "    .dataframe thead th {\n",
       "        text-align: right;\n",
       "    }\n",
       "</style>\n",
       "<table border=\"1\" class=\"dataframe\">\n",
       "  <thead>\n",
       "    <tr style=\"text-align: right;\">\n",
       "      <th></th>\n",
       "      <th>fecha</th>\n",
       "      <th>user_id</th>\n",
       "      <th>recommend</th>\n",
       "    </tr>\n",
       "  </thead>\n",
       "  <tbody>\n",
       "    <tr>\n",
       "      <th>0</th>\n",
       "      <td>2011-11-05</td>\n",
       "      <td>76561197970982479</td>\n",
       "      <td>1</td>\n",
       "    </tr>\n",
       "    <tr>\n",
       "      <th>3</th>\n",
       "      <td>2014-06-24</td>\n",
       "      <td>js41637</td>\n",
       "      <td>1</td>\n",
       "    </tr>\n",
       "    <tr>\n",
       "      <th>6</th>\n",
       "      <td>2014-02-03</td>\n",
       "      <td>evcentric</td>\n",
       "      <td>1</td>\n",
       "    </tr>\n",
       "    <tr>\n",
       "      <th>12</th>\n",
       "      <td>2013-10-14</td>\n",
       "      <td>doctr</td>\n",
       "      <td>1</td>\n",
       "    </tr>\n",
       "    <tr>\n",
       "      <th>18</th>\n",
       "      <td>2014-04-15</td>\n",
       "      <td>maplemage</td>\n",
       "      <td>1</td>\n",
       "    </tr>\n",
       "    <tr>\n",
       "      <th>...</th>\n",
       "      <td>...</td>\n",
       "      <td>...</td>\n",
       "      <td>...</td>\n",
       "    </tr>\n",
       "    <tr>\n",
       "      <th>58420</th>\n",
       "      <td>2014-05-31</td>\n",
       "      <td>76561198306599751</td>\n",
       "      <td>1</td>\n",
       "    </tr>\n",
       "    <tr>\n",
       "      <th>58421</th>\n",
       "      <td>2014-06-17</td>\n",
       "      <td>Ghoustik</td>\n",
       "      <td>1</td>\n",
       "    </tr>\n",
       "    <tr>\n",
       "      <th>58422</th>\n",
       "      <td>2014-06-23</td>\n",
       "      <td>76561198310819422</td>\n",
       "      <td>1</td>\n",
       "    </tr>\n",
       "    <tr>\n",
       "      <th>58423</th>\n",
       "      <td>2014-07-21</td>\n",
       "      <td>76561198312638244</td>\n",
       "      <td>1</td>\n",
       "    </tr>\n",
       "    <tr>\n",
       "      <th>58427</th>\n",
       "      <td>2014-07-03</td>\n",
       "      <td>LydiaMorley</td>\n",
       "      <td>1</td>\n",
       "    </tr>\n",
       "  </tbody>\n",
       "</table>\n",
       "<p>25457 rows × 3 columns</p>\n",
       "</div>"
      ],
      "text/plain": [
       "            fecha            user_id  recommend\n",
       "0      2011-11-05  76561197970982479          1\n",
       "3      2014-06-24            js41637          1\n",
       "6      2014-02-03          evcentric          1\n",
       "12     2013-10-14              doctr          1\n",
       "18     2014-04-15          maplemage          1\n",
       "...           ...                ...        ...\n",
       "58420  2014-05-31  76561198306599751          1\n",
       "58421  2014-06-17           Ghoustik          1\n",
       "58422  2014-06-23  76561198310819422          1\n",
       "58423  2014-07-21  76561198312638244          1\n",
       "58427  2014-07-03        LydiaMorley          1\n",
       "\n",
       "[25457 rows x 3 columns]"
      ]
     },
     "execution_count": 164,
     "metadata": {},
     "output_type": "execute_result"
    }
   ],
   "source": [
    "def_reviews_api2"
   ]
  },
  {
   "cell_type": "markdown",
   "metadata": {},
   "source": [
    "Guardar el DF del API2 para la funcion 2 en un archivo CSV para usarlo posteriormente"
   ]
  },
  {
   "cell_type": "code",
   "execution_count": 165,
   "metadata": {},
   "outputs": [
    {
     "name": "stdout",
     "output_type": "stream",
     "text": [
      "DataFrame guardado como archivo CSV en: C:\\Users\\computadora\\Desktop\\ProyectoML.JC\\ProyectoIndividualML.JC\\def_reviews_api2.csv\n"
     ]
    }
   ],
   "source": [
    "\n",
    "# Ruta donde deseas guardar el archivo CSV\n",
    "ruta_csv = r\"C:\\Users\\computadora\\Desktop\\ProyectoML.JC\\ProyectoIndividualML.JC\\def_reviews_api2.csv\"  # Cambia esta ruta a la que desees\n",
    "\n",
    "# Guarda el DataFrame en un archivo CSV\n",
    "def_reviews_api2.to_csv(ruta_csv, index=False)  # El argumento 'index=False' evita que se incluya el índice en el archivo CSV\n",
    "\n",
    "print(\"DataFrame guardado como archivo CSV en:\", ruta_csv) "
   ]
  },
  {
   "cell_type": "markdown",
   "metadata": {},
   "source": [
    "Llamar a DF desde el csv creado para la funcion 2 de la API"
   ]
  },
  {
   "cell_type": "code",
   "execution_count": 166,
   "metadata": {},
   "outputs": [
    {
     "data": {
      "text/html": [
       "<div>\n",
       "<style scoped>\n",
       "    .dataframe tbody tr th:only-of-type {\n",
       "        vertical-align: middle;\n",
       "    }\n",
       "\n",
       "    .dataframe tbody tr th {\n",
       "        vertical-align: top;\n",
       "    }\n",
       "\n",
       "    .dataframe thead th {\n",
       "        text-align: right;\n",
       "    }\n",
       "</style>\n",
       "<table border=\"1\" class=\"dataframe\">\n",
       "  <thead>\n",
       "    <tr style=\"text-align: right;\">\n",
       "      <th></th>\n",
       "      <th>fecha</th>\n",
       "      <th>user_id</th>\n",
       "      <th>recommend</th>\n",
       "    </tr>\n",
       "  </thead>\n",
       "  <tbody>\n",
       "    <tr>\n",
       "      <th>0</th>\n",
       "      <td>2011-11-05</td>\n",
       "      <td>76561197970982479</td>\n",
       "      <td>1</td>\n",
       "    </tr>\n",
       "    <tr>\n",
       "      <th>1</th>\n",
       "      <td>2014-06-24</td>\n",
       "      <td>js41637</td>\n",
       "      <td>1</td>\n",
       "    </tr>\n",
       "    <tr>\n",
       "      <th>2</th>\n",
       "      <td>2014-02-03</td>\n",
       "      <td>evcentric</td>\n",
       "      <td>1</td>\n",
       "    </tr>\n",
       "    <tr>\n",
       "      <th>3</th>\n",
       "      <td>2013-10-14</td>\n",
       "      <td>doctr</td>\n",
       "      <td>1</td>\n",
       "    </tr>\n",
       "    <tr>\n",
       "      <th>4</th>\n",
       "      <td>2014-04-15</td>\n",
       "      <td>maplemage</td>\n",
       "      <td>1</td>\n",
       "    </tr>\n",
       "    <tr>\n",
       "      <th>...</th>\n",
       "      <td>...</td>\n",
       "      <td>...</td>\n",
       "      <td>...</td>\n",
       "    </tr>\n",
       "    <tr>\n",
       "      <th>25452</th>\n",
       "      <td>2014-05-31</td>\n",
       "      <td>76561198306599751</td>\n",
       "      <td>1</td>\n",
       "    </tr>\n",
       "    <tr>\n",
       "      <th>25453</th>\n",
       "      <td>2014-06-17</td>\n",
       "      <td>Ghoustik</td>\n",
       "      <td>1</td>\n",
       "    </tr>\n",
       "    <tr>\n",
       "      <th>25454</th>\n",
       "      <td>2014-06-23</td>\n",
       "      <td>76561198310819422</td>\n",
       "      <td>1</td>\n",
       "    </tr>\n",
       "    <tr>\n",
       "      <th>25455</th>\n",
       "      <td>2014-07-21</td>\n",
       "      <td>76561198312638244</td>\n",
       "      <td>1</td>\n",
       "    </tr>\n",
       "    <tr>\n",
       "      <th>25456</th>\n",
       "      <td>2014-07-03</td>\n",
       "      <td>LydiaMorley</td>\n",
       "      <td>1</td>\n",
       "    </tr>\n",
       "  </tbody>\n",
       "</table>\n",
       "<p>25457 rows × 3 columns</p>\n",
       "</div>"
      ],
      "text/plain": [
       "            fecha            user_id  recommend\n",
       "0      2011-11-05  76561197970982479          1\n",
       "1      2014-06-24            js41637          1\n",
       "2      2014-02-03          evcentric          1\n",
       "3      2013-10-14              doctr          1\n",
       "4      2014-04-15          maplemage          1\n",
       "...           ...                ...        ...\n",
       "25452  2014-05-31  76561198306599751          1\n",
       "25453  2014-06-17           Ghoustik          1\n",
       "25454  2014-06-23  76561198310819422          1\n",
       "25455  2014-07-21  76561198312638244          1\n",
       "25456  2014-07-03        LydiaMorley          1\n",
       "\n",
       "[25457 rows x 3 columns]"
      ]
     },
     "execution_count": 166,
     "metadata": {},
     "output_type": "execute_result"
    }
   ],
   "source": [
    "def_reviews_api2=pd.read_csv('../ProyectoIndividualML.JC/def_reviews_api2.csv')\n",
    "def_reviews_api2"
   ]
  },
  {
   "cell_type": "code",
   "execution_count": 167,
   "metadata": {},
   "outputs": [
    {
     "name": "stdout",
     "output_type": "stream",
     "text": [
      "25457\n"
     ]
    }
   ],
   "source": [
    "\n",
    "# Contar las ocurrencias únicas del usuario (user_id) en la columna 'user_id'\n",
    "unique_user_count = def_reviews_api2['user_id'].nunique()\n",
    "\n",
    "# Mostrar el resultado\n",
    "print(unique_user_count)"
   ]
  },
  {
   "cell_type": "markdown",
   "metadata": {},
   "source": [
    "def countreviews( YYYY-MM-DD y YYYY-MM-DD : str ): Cantidad de usuarios que realizaron reviews entre las fechas dadas y, el porcentaje de recomendación de los mismos en base a reviews.recommend."
   ]
  },
  {
   "cell_type": "code",
   "execution_count": 168,
   "metadata": {},
   "outputs": [
    {
     "data": {
      "text/html": [
       "<div>\n",
       "<style scoped>\n",
       "    .dataframe tbody tr th:only-of-type {\n",
       "        vertical-align: middle;\n",
       "    }\n",
       "\n",
       "    .dataframe tbody tr th {\n",
       "        vertical-align: top;\n",
       "    }\n",
       "\n",
       "    .dataframe thead th {\n",
       "        text-align: right;\n",
       "    }\n",
       "</style>\n",
       "<table border=\"1\" class=\"dataframe\">\n",
       "  <thead>\n",
       "    <tr style=\"text-align: right;\">\n",
       "      <th></th>\n",
       "      <th>fecha</th>\n",
       "      <th>user_id</th>\n",
       "      <th>recommend</th>\n",
       "    </tr>\n",
       "  </thead>\n",
       "  <tbody>\n",
       "    <tr>\n",
       "      <th>0</th>\n",
       "      <td>2011-11-05</td>\n",
       "      <td>76561197970982479</td>\n",
       "      <td>1</td>\n",
       "    </tr>\n",
       "    <tr>\n",
       "      <th>1</th>\n",
       "      <td>2014-06-24</td>\n",
       "      <td>js41637</td>\n",
       "      <td>1</td>\n",
       "    </tr>\n",
       "    <tr>\n",
       "      <th>2</th>\n",
       "      <td>2014-02-03</td>\n",
       "      <td>evcentric</td>\n",
       "      <td>1</td>\n",
       "    </tr>\n",
       "    <tr>\n",
       "      <th>3</th>\n",
       "      <td>2013-10-14</td>\n",
       "      <td>doctr</td>\n",
       "      <td>1</td>\n",
       "    </tr>\n",
       "    <tr>\n",
       "      <th>4</th>\n",
       "      <td>2014-04-15</td>\n",
       "      <td>maplemage</td>\n",
       "      <td>1</td>\n",
       "    </tr>\n",
       "    <tr>\n",
       "      <th>...</th>\n",
       "      <td>...</td>\n",
       "      <td>...</td>\n",
       "      <td>...</td>\n",
       "    </tr>\n",
       "    <tr>\n",
       "      <th>25452</th>\n",
       "      <td>2014-05-31</td>\n",
       "      <td>76561198306599751</td>\n",
       "      <td>1</td>\n",
       "    </tr>\n",
       "    <tr>\n",
       "      <th>25453</th>\n",
       "      <td>2014-06-17</td>\n",
       "      <td>Ghoustik</td>\n",
       "      <td>1</td>\n",
       "    </tr>\n",
       "    <tr>\n",
       "      <th>25454</th>\n",
       "      <td>2014-06-23</td>\n",
       "      <td>76561198310819422</td>\n",
       "      <td>1</td>\n",
       "    </tr>\n",
       "    <tr>\n",
       "      <th>25455</th>\n",
       "      <td>2014-07-21</td>\n",
       "      <td>76561198312638244</td>\n",
       "      <td>1</td>\n",
       "    </tr>\n",
       "    <tr>\n",
       "      <th>25456</th>\n",
       "      <td>2014-07-03</td>\n",
       "      <td>LydiaMorley</td>\n",
       "      <td>1</td>\n",
       "    </tr>\n",
       "  </tbody>\n",
       "</table>\n",
       "<p>25457 rows × 3 columns</p>\n",
       "</div>"
      ],
      "text/plain": [
       "            fecha            user_id  recommend\n",
       "0      2011-11-05  76561197970982479          1\n",
       "1      2014-06-24            js41637          1\n",
       "2      2014-02-03          evcentric          1\n",
       "3      2013-10-14              doctr          1\n",
       "4      2014-04-15          maplemage          1\n",
       "...           ...                ...        ...\n",
       "25452  2014-05-31  76561198306599751          1\n",
       "25453  2014-06-17           Ghoustik          1\n",
       "25454  2014-06-23  76561198310819422          1\n",
       "25455  2014-07-21  76561198312638244          1\n",
       "25456  2014-07-03        LydiaMorley          1\n",
       "\n",
       "[25457 rows x 3 columns]"
      ]
     },
     "execution_count": 168,
     "metadata": {},
     "output_type": "execute_result"
    }
   ],
   "source": [
    "def_reviews_api2"
   ]
  },
  {
   "cell_type": "code",
   "execution_count": 169,
   "metadata": {},
   "outputs": [],
   "source": [
    "\n",
    "\n",
    "def countreviews(fecha_inicio, fecha_fin):\n",
    "    # Filtrar el DataFrame por las fechas dadas\n",
    "    df_filtrado = def_reviews_api2[(def_reviews_api2['fecha'] >= fecha_inicio) & (def_reviews_api2['fecha'] <= fecha_fin)]\n",
    "\n",
    "    # Calcular la cantidad de usuarios únicos\n",
    "    usuarios_unicos = df_filtrado['user_id'].nunique()\n",
    "\n",
    "    # Calcular el porcentaje de recomendación promedio\n",
    "    porcentaje_promedio = df_filtrado['recommend'].mean() * 100\n",
    "\n",
    "    # Calcular la cantidad de items\n",
    "    cantidad_items = len(df_filtrado)\n",
    "\n",
    "    return usuarios_unicos, porcentaje_promedio, cantidad_items\n"
   ]
  },
  {
   "cell_type": "code",
   "execution_count": 170,
   "metadata": {},
   "outputs": [
    {
     "name": "stdout",
     "output_type": "stream",
     "text": [
      "Cantidad de usuarios que realizaron reviews entre 2011-01-01 y 2014-12-31: 17542\n",
      "Porcentaje de recomendación promedio: 90.45 %\n",
      "Cantidad de items: 17542\n"
     ]
    }
   ],
   "source": [
    "\n",
    "# Ejemplo de uso\n",
    "fecha_inicio = '2011-01-01'\n",
    "fecha_fin = '2014-12-31'\n",
    "\n",
    "usuarios, porcentaje, cantidad_items = countreviews(fecha_inicio, fecha_fin)\n",
    "\n",
    "print(f\"Cantidad de usuarios que realizaron reviews entre {fecha_inicio} y {fecha_fin}: {usuarios}\")\n",
    "print(f\"Porcentaje de recomendación promedio: {porcentaje:.2f} %\")\n",
    "print(f\"Cantidad de items: {cantidad_items}\")"
   ]
  }
 ],
 "metadata": {
  "kernelspec": {
   "display_name": "Python 3",
   "language": "python",
   "name": "python3"
  },
  "language_info": {
   "codemirror_mode": {
    "name": "ipython",
    "version": 3
   },
   "file_extension": ".py",
   "mimetype": "text/x-python",
   "name": "python",
   "nbconvert_exporter": "python",
   "pygments_lexer": "ipython3",
   "version": "3.11.4"
  },
  "orig_nbformat": 4
 },
 "nbformat": 4,
 "nbformat_minor": 2
}
